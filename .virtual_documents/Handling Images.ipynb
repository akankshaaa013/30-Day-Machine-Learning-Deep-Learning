# !pip install opencv-python
import numpy as np
import pandas as pd
import warnings
warnings.filterwarnings("ignore")


!pip install numpy<2


import matplotlib.pyplot as plt
import cv2



