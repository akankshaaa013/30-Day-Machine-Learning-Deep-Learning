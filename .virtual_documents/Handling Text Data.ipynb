


# Importing the required libraries
import re
from bs4 import BeautifulSoup


txt = ["   Interrobang. By Aishwarya Henriette     ",
 "Parking And Going. By Karl Gautier",
 "    Today Is The night. By Jarek Prakash   "]

txt = [sttr.strip() for sttr in txt]
txt


txt = [sttr.replace('.','') for sttr in txt]
txt


def capitalizer(strr: str) -> str:
    return strr.upper()

txt = [capitalizer(strr) for strr in txt]
txt


def replace_letter(strr : str) -> str:
    return re.sub(r"[a-zA-Z]", "X", strr)

[replace_letter(strr) for strr in txt]


s = "machine learning in python cookbook"


s.find("n")


s.startswith('m')


s.endswith('k')


s.endswith("python")


s.isalnum()


s.isalpha()


x = s.encode("utf-8")
x


x.decode("utf-8")





 # Create some HTML code
 html = """
 <div class='full_name'><span style='font
weight:bold'>Masego</span> Azra</div>"
 """

soup = BeautifulSoup(html, "lxml")
soup


soup.find("div", {"class": "full_name"}).text


doc = ['<html><head><title>Page title</title></head>',
       '<body><p id="firstpara" align="center">This is paragraph <b>one</b>.',
       '<p id="secondpara" align="blah">This is paragraph <b>two</b>.',
       '</html>']
soup = BeautifulSoup(''.join(doc))
soup


soup.prettify


soup.contents[0].title


soup.contents[0].title.parent.name


soup.contents[0].title.parent.nextSibling.contents[0]


soup.findAll('p', {"align": "center"})[0]['id']


soup.find('p').b.string





txt = ['Hi!!!! I. Love. This. Song....',
 '10000% Agree!!!! #LoveIT',
 'Right?!?!']


dict.fromkeys(i for i in range(sys.maxunicode) if unicodedata.category(chr(i)).startsWith('P'))


dict.fromkeys(i for i in range(sys.maxunicode) if unicodedata.category(chr(i)).startsWith('P'))



