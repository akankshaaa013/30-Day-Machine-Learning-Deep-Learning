!pip install numpy


import numpy as np





vector_row = np.array([1, 2, 3])
vector_row


vector_col = np.array([
    [1, 2, 3],
    [4, 5, 6],
    [6, 7, 8]
])
print(vector_col)





matrix = np.array([
    [1,2],
    [1,2],
    [1,2]
])
matrix


# Numpy actually has a dedicated matrix data structure
matrix_obj = np.mat([
    [1,2],
    [1,2],
    [1,2]
])
matrix_obj








from scipy import sparse
matrix = np.array([
    [33, 1, 0],
    [0, 0, 10],
    [3, 0, 0]
])
matrix_sparse = sparse.csr_matrix(matrix) # Compressed sparse row matrices where non-zero elements and their positions are stored.
print(matrix_sparse)


matrix_large = np.array([
    [33, 1, 0, 0, 0, 0, 0, 0, 0, 0, 0, 0, 0, 0, 0, 0, 0, 0, 0, 0],
    [0, 0, 0, 0, 0, 0, 0, 0, 0, 0, 0, 0, 0, 0, 0, 0, 0, 0, 0, 10],
    [3, 0, 0, 0, 0, 0, 0, 0, 0, 0, 0, 0, 0, 0, 0, 0, 0, 0, 0, 0]
])
matrix_large_sparse = sparse.csr_matrix(matrix_large)
print(matrix_large_sparse) # Row-wise representation





matrix_large_sparse = sparse.csc_matrix(matrix_large)
print(matrix_large_sparse) # Column-wis representation


print(matrix_large_sparse.toarray()) # Converting the sparse matrix back to original 2-D array


print(f"Size in bytes of original matrix: {matrix_large.nbytes}")
print(f"Size in bytes of compressed sparse column matrix: {matrix_large_sparse.data.nbytes + matrix_large_sparse.indptr.nbytes + matrix_large_sparse.indices.nbytes}")








vector = np.zeros(shape = 5)
print(vector, vector.dtype, sep="\n")


matrix = np.full(shape = (3,3), fill_value = 45, dtype="float")
print(matrix, matrix.dtype, sep="\n")








vector = np.array([1, 2, 3, 4, 5, 6])
matrix = np.array([
    [1, 2, 3],
    [4, 5, 6],
    [7, 8, 9]
])


vector[2]


matrix[1,1]


vector[:]


vector[3:]


vector[-1]


vector[::-1]


matrix[:2,:]


matrix[:,1]


matrix[:,1:2]





matrix.shape


matrix.size


matrix.ndim





vectorize_method = np.vectorize(lambda x : x + 100)
vectorize_method


vectorize_method(matrix)


# Using Broadcasting
matrix + 100



