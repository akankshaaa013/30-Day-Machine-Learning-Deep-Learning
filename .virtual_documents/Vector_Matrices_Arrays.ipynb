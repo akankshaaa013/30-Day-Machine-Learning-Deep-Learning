!pip install numpy


import numpy as np





vector_row = np.array([1, 2, 3])
vector_row


vector_col = np.array([
    [1, 2, 3],
    [4, 5, 6],
    [6, 7, 8]
])
print(vector_col)





matrix = np.array([
    [1,2],
    [1,2],
    [1,2]
])
matrix


# Numpy actually has a dedicated matrix data structure
matrix_obj = np.mat([
    [1,2],
    [1,2],
    [1,2]
])
matrix_obj








from scipy import sparse
matrix = np.array([
    [33, 1, 0],
    [0, 0, 10],
    [3, 0, 0]
])
matrix_sparse = sparse.csr_matrix(matrix) # Compressed sparse row matrices where non-zero elements and their positions are stored.
print(matrix_sparse)


matrix_large = np.array([
    [33, 1, 0, 0, 0, 0, 0, 0, 0, 0, 0, 0, 0, 0, 0, 0, 0, 0, 0, 0],
    [0, 0, 0, 0, 0, 0, 0, 0, 0, 0, 0, 0, 0, 0, 0, 0, 0, 0, 0, 10],
    [3, 0, 0, 0, 0, 0, 0, 0, 0, 0, 0, 0, 0, 0, 0, 0, 0, 0, 0, 0]
])
matrix_large_sparse = sparse.csr_matrix(matrix_large)
print(matrix_large_sparse) # Row-wise representation





matrix_large_sparse = sparse.csc_matrix(matrix_large)
print(matrix_large_sparse) # Column-wis representation


print(matrix_large_sparse.toarray()) # Converting the sparse matrix back to original 2-D array


print(f"Size in bytes of original matrix: {matrix_large.nbytes}")
print(f"Size in bytes of compressed sparse column matrix: {matrix_large_sparse.data.nbytes + matrix_large_sparse.indptr.nbytes + matrix_large_sparse.indices.nbytes}")








vector = np.zeros(shape = 5)
print(vector, vector.dtype, sep="\n")


matrix = np.full(shape = (3,3), fill_value = 45, dtype="float")
print(matrix, matrix.dtype, sep="\n")








vector = np.array([1, 2, 3, 4, 5, 6])
matrix = np.array([
    [1, 2, 3],
    [4, 5, 6],
    [7, 8, 9]
])


vector[2]


matrix[1,1]


vector[:]


vector[3:]


vector[-1]


vector[::-1]


matrix[:2,:]


matrix[:,1]


matrix[:,1:2]





matrix.shape


matrix.size


matrix.ndim





vectorize_method = np.vectorize(lambda x : x + 100)
vectorize_method


vectorize_method(matrix)


# Using Broadcasting
matrix + 100





np.max(matrix)


np.min(matrix)


# Find the maximum element in each column.
np.max(matrix, axis=0)


# Find the maximum element in each row.
np.max(matrix, axis=1)





np.mean(matrix)


np.var(matrix)


np.std(matrix)





matrix = np.array([
    [1, 2, 3, 4],
    [5, 6, 7, 8],
    [10, 11, 12, 13]
])
print(matrix)


matrix.reshape(4,3)


matrix.reshape(6,2)


# matrix.reshape(3,5)
# ValueError                                Traceback (most recent call last)
# Cell In[81], line 1
# ----> 1 matrix.reshape(3,5)

# ValueError: cannot reshape array of size 12 into shape (3,5)





matrix.reshape(1, -1)


matrix.reshape(-1, 1)


matrix.reshape(12)





print(matrix)


print(matrix.T)





matrix.flatten()





a = np.array([
    [1, 2],
    [3, 4]
])
b = np.array([
    [5, 6],
    [7, 8]
])

c = [a, b]
print(c)


np.ravel(c)





np.linalg.matrix_rank(matrix)





print(matrix)


matrix.diagonal()


# Return the diagonal one above the main diagonal
matrix.diagonal(offset=1)


# Return the diagonal one below the main diagonal
matrix.diagonal(offset=-1)





matrix.trace()


np.sum(matrix.diagonal())


a = np.array([1,2,3,4])
b = np.array([5,6,7,8])
np.dot(a, b)


a @ b





mat_a = np.array([[1,2,3],[4,5,6],[7,8,9]])
mat_b = np.array([[1,1,1],[9,9,9],[3,3,3]])


np.add(mat_a, mat_b)


np.subtract(mat_a, mat_b)


mat_a + mat_b


mat_a @ mat_b


np.dot(mat_a, mat_b)


mat_a*mat_b





matrix = np.array([
    [1, 2, 3],
    [4, 5, 6],
    [7, 8, 9]
])
np.linalg.inv(matrix)


matrix @ np.linalg.inv(matrix)





np.random.seed(12345) # To reproduce the same random values


# Generate 3 random floats from 0 and 1
np.random.random(3)


# Generate 3 random integers between 0 and 10
np.random.randint(0, 11, 3)


# Draw three numbers from a normal distribution with mean 0.0 and standard deviation of 1.0
np.random.normal(0, 1, 3)


# Draw three numbers from a logistic distribution with mean 0.0 and scale of 1.0
np.random.logistic(0, 1, 3)


# Draw 3 numbers greater than or equal to 1 and less than 2
np.random.uniform(1, 2, 3)






