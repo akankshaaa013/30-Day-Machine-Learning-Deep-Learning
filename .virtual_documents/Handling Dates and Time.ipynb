import pandas as pd
import numpy as np


from pytz import all_timezones
import warnings 
warnings.filterwarnings("ignore")





date_string = np.array(['03-04-2005 11:35 AM',
                       '23-05-2012 12:01 PM',
                       '09-11-2024 6:00 PM'])
[pd.to_datetime(date, format = "%d-%m-%Y %I:%M %p") for date in date_string]


[pd.to_datetime(date, format = "%d-%m-%Y %I:%M %p",  errors = "coerce") for date in date_string]








pd.Timestamp("2017-05-01 06:00:00", tz = "Europe/London")


date = pd.Timestamp("2017-05-01 06:00:00")
date_in_london = date.tz_localize("Europe/London")
date_in_london


date_in_london.tz_convert("Africa/Abidjan")


dates = pd.Series(pd.date_range("2/2/2002", periods = 3, freq = "ME"))
dates


dates.dt.tz_localize("Africa/Abidjan")


print(f"There are {len(all_timezones)} different timezones.")


all_timezones[:5]





df = pd.DataFrame()
df["date"] = pd.date_range("1/1/2001", periods = 100000, freq="H")
df.head()


df[(df["date"] > "2002/1/1 01:00:00") & (df["date"] <= "2002/1/1 04:00:00")]


df = df.set_index(df["date"])
df.loc['2002/1/1 01:00:00':'2002/1/1 04:00:00']


df = pd.DataFrame()
df["date"] = pd.date_range("1/1/2001", periods = 150, freq="W")
df.head()


df["year"] = df["date"].dt.year
df["month"] = df["date"].dt.month
df["day"] = df["date"].dt.day
df["hour"] = df["date"].dt.hour
df["minute"] = df["date"].dt.minute


df.head()





df = pd.DataFrame()


df["Arrived"] = [pd.Timestamp("01-01-2017"), pd.Timestamp("01-04-2017")]
df["Left"] = [pd.Timestamp("01-01-2017"), pd.Timestamp("01-06-2017")]


df


df["Left"] - df["Arrived"]


pd.Series([delta.days for delta in (df["Left"] - df["Arrived"])])





dates = pd.Series(pd.date_range("1/1/2001", periods = 3, freq="MS"))


dates.dt.day_name()


dates.dt.weekday





df = pd.DataFrame()
df["dates"] = pd.date_range("1/1/2005", periods = 5, freq = "D")
df["stock_price"] = [1.1, 2.2, 3.4, 4.9, 5.2]
df


df["prev_day_stock_price"] = df["stock_price"].shift(1)


df[:3]





time_idx = pd.date_range("01/01/2005", periods = 5, freq = "M")
time_idx


df = pd.DataFrame(index = time_idx)
df["stock_price"] = [1, 2.1, 5.3, 4, 1.5]


df.rolling(window=2).mean()





df.iloc[3] = df.iloc[2] = np.nan


df


df.interpolate()


df.ffill()


df.bfill()


df.interpolate(method = "quadratic")


df.interpolate(limit = 1, limit_direction = "forward")



