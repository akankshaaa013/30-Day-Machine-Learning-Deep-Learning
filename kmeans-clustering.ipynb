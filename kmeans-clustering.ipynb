{
 "cells": [
  {
   "cell_type": "markdown",
   "metadata": {
    "_cell_guid": "b1076dfc-b9ad-4769-8c92-a6c4dae69d19",
    "_uuid": "8f2839f25d086af736a60e9eeb907d3b93b6e0e5"
   },
   "source": [
    "<h1 style = \"font-size:30px; font-family: Calibri\">\n",
    "    Clustering using K-Means\n",
    "</h1>"
   ]
  },
  {
   "cell_type": "code",
   "execution_count": 20,
   "metadata": {
    "execution": {
     "iopub.execute_input": "2025-01-21T09:39:54.304558Z",
     "iopub.status.busy": "2025-01-21T09:39:54.304189Z",
     "iopub.status.idle": "2025-01-21T09:39:54.308695Z",
     "shell.execute_reply": "2025-01-21T09:39:54.307800Z",
     "shell.execute_reply.started": "2025-01-21T09:39:54.304530Z"
    },
    "trusted": true
   },
   "outputs": [],
   "source": [
    "from sklearn import datasets\n",
    "from sklearn.preprocessing import StandardScaler\n",
    "from sklearn.cluster import KMeans, AgglomerativeClustering, MiniBatchKMeans, MeanShift, DBSCAN"
   ]
  },
  {
   "cell_type": "code",
   "execution_count": 2,
   "metadata": {
    "execution": {
     "iopub.execute_input": "2025-01-21T09:24:35.927719Z",
     "iopub.status.busy": "2025-01-21T09:24:35.927283Z",
     "iopub.status.idle": "2025-01-21T09:24:35.942857Z",
     "shell.execute_reply": "2025-01-21T09:24:35.941669Z",
     "shell.execute_reply.started": "2025-01-21T09:24:35.927693Z"
    },
    "trusted": true
   },
   "outputs": [],
   "source": [
    "iris = datasets.load_iris()\n",
    "\n",
    "features = iris.data"
   ]
  },
  {
   "cell_type": "code",
   "execution_count": 3,
   "metadata": {
    "execution": {
     "iopub.execute_input": "2025-01-21T09:25:51.027627Z",
     "iopub.status.busy": "2025-01-21T09:25:51.027242Z",
     "iopub.status.idle": "2025-01-21T09:25:51.136212Z",
     "shell.execute_reply": "2025-01-21T09:25:51.135404Z",
     "shell.execute_reply.started": "2025-01-21T09:25:51.027589Z"
    },
    "trusted": true
   },
   "outputs": [],
   "source": [
    "scaler = StandardScaler()\n",
    "features_std = scaler.fit_transform(features)\n",
    "\n",
    "cluster = KMeans(n_clusters=3, n_init=\"auto\")\n",
    "model = cluster.fit(features_std)"
   ]
  },
  {
   "cell_type": "code",
   "execution_count": 4,
   "metadata": {
    "execution": {
     "iopub.execute_input": "2025-01-21T09:27:59.680078Z",
     "iopub.status.busy": "2025-01-21T09:27:59.679653Z",
     "iopub.status.idle": "2025-01-21T09:27:59.688209Z",
     "shell.execute_reply": "2025-01-21T09:27:59.687012Z",
     "shell.execute_reply.started": "2025-01-21T09:27:59.680047Z"
    },
    "trusted": true
   },
   "outputs": [
    {
     "data": {
      "text/plain": [
       "array([1, 1, 1, 1, 1, 1, 1, 1, 1, 1, 1, 1, 1, 1, 1, 1, 1, 1, 1, 1, 1, 1,\n",
       "       1, 1, 1, 1, 1, 1, 1, 1, 1, 1, 1, 1, 1, 1, 1, 1, 1, 1, 1, 2, 1, 1,\n",
       "       1, 1, 1, 1, 1, 1, 0, 0, 0, 2, 0, 2, 0, 2, 0, 2, 2, 2, 2, 2, 2, 0,\n",
       "       2, 2, 2, 2, 0, 2, 2, 2, 2, 0, 0, 0, 2, 2, 2, 2, 2, 2, 2, 0, 0, 2,\n",
       "       2, 2, 2, 2, 2, 2, 2, 2, 2, 2, 2, 2, 0, 2, 0, 0, 0, 0, 2, 0, 0, 0,\n",
       "       0, 0, 0, 2, 0, 0, 0, 0, 0, 2, 0, 2, 0, 0, 0, 0, 0, 0, 0, 0, 0, 0,\n",
       "       0, 0, 2, 0, 0, 0, 0, 0, 0, 0, 2, 0, 0, 0, 2, 0, 0, 0], dtype=int32)"
      ]
     },
     "execution_count": 4,
     "metadata": {},
     "output_type": "execute_result"
    }
   ],
   "source": [
    "model.labels_"
   ]
  },
  {
   "cell_type": "code",
   "execution_count": 5,
   "metadata": {
    "execution": {
     "iopub.execute_input": "2025-01-21T09:28:48.123965Z",
     "iopub.status.busy": "2025-01-21T09:28:48.123567Z",
     "iopub.status.idle": "2025-01-21T09:28:48.130158Z",
     "shell.execute_reply": "2025-01-21T09:28:48.129284Z",
     "shell.execute_reply.started": "2025-01-21T09:28:48.123926Z"
    },
    "trusted": true
   },
   "outputs": [
    {
     "data": {
      "text/plain": [
       "array([0, 0, 0, 0, 0, 0, 0, 0, 0, 0, 0, 0, 0, 0, 0, 0, 0, 0, 0, 0, 0, 0,\n",
       "       0, 0, 0, 0, 0, 0, 0, 0, 0, 0, 0, 0, 0, 0, 0, 0, 0, 0, 0, 0, 0, 0,\n",
       "       0, 0, 0, 0, 0, 0, 1, 1, 1, 1, 1, 1, 1, 1, 1, 1, 1, 1, 1, 1, 1, 1,\n",
       "       1, 1, 1, 1, 1, 1, 1, 1, 1, 1, 1, 1, 1, 1, 1, 1, 1, 1, 1, 1, 1, 1,\n",
       "       1, 1, 1, 1, 1, 1, 1, 1, 1, 1, 1, 1, 2, 2, 2, 2, 2, 2, 2, 2, 2, 2,\n",
       "       2, 2, 2, 2, 2, 2, 2, 2, 2, 2, 2, 2, 2, 2, 2, 2, 2, 2, 2, 2, 2, 2,\n",
       "       2, 2, 2, 2, 2, 2, 2, 2, 2, 2, 2, 2, 2, 2, 2, 2, 2, 2])"
      ]
     },
     "execution_count": 5,
     "metadata": {},
     "output_type": "execute_result"
    }
   ],
   "source": [
    "iris.target"
   ]
  },
  {
   "cell_type": "code",
   "execution_count": 7,
   "metadata": {
    "execution": {
     "iopub.execute_input": "2025-01-21T09:29:40.740566Z",
     "iopub.status.busy": "2025-01-21T09:29:40.740214Z",
     "iopub.status.idle": "2025-01-21T09:29:40.747947Z",
     "shell.execute_reply": "2025-01-21T09:29:40.746978Z",
     "shell.execute_reply.started": "2025-01-21T09:29:40.740542Z"
    },
    "trusted": true
   },
   "outputs": [
    {
     "data": {
      "text/plain": [
       "array([0], dtype=int32)"
      ]
     },
     "execution_count": 7,
     "metadata": {},
     "output_type": "execute_result"
    }
   ],
   "source": [
    "new_obs = [[0.8, 0.8, 0.8, 0.8]]\n",
    "model.predict(new_obs)"
   ]
  },
  {
   "cell_type": "code",
   "execution_count": 8,
   "metadata": {
    "execution": {
     "iopub.execute_input": "2025-01-21T09:30:16.041080Z",
     "iopub.status.busy": "2025-01-21T09:30:16.040705Z",
     "iopub.status.idle": "2025-01-21T09:30:16.047208Z",
     "shell.execute_reply": "2025-01-21T09:30:16.046374Z",
     "shell.execute_reply.started": "2025-01-21T09:30:16.041054Z"
    },
    "trusted": true
   },
   "outputs": [
    {
     "data": {
      "text/plain": [
       "array([[ 1.03359865,  0.00613858,  0.94360463,  0.9725624 ],\n",
       "       [-1.00206653,  0.90625492, -1.30310821, -1.25634413],\n",
       "       [-0.16840578, -0.9726981 ,  0.2598706 ,  0.17543327]])"
      ]
     },
     "execution_count": 8,
     "metadata": {},
     "output_type": "execute_result"
    }
   ],
   "source": [
    "model.cluster_centers_"
   ]
  },
  {
   "cell_type": "markdown",
   "metadata": {},
   "source": [
    "<h1 style = \"font-size:30px; font-family: Calibri\">\n",
    "    Speeding up the K-Means Clustering\n",
    "</h1>"
   ]
  },
  {
   "cell_type": "code",
   "execution_count": 11,
   "metadata": {
    "execution": {
     "iopub.execute_input": "2025-01-21T09:32:45.625124Z",
     "iopub.status.busy": "2025-01-21T09:32:45.624754Z",
     "iopub.status.idle": "2025-01-21T09:32:45.725494Z",
     "shell.execute_reply": "2025-01-21T09:32:45.722027Z",
     "shell.execute_reply.started": "2025-01-21T09:32:45.625097Z"
    },
    "trusted": true
   },
   "outputs": [],
   "source": [
    "cluster = MiniBatchKMeans(n_clusters = 3, batch_size = 100, n_init = \"auto\")\n",
    "model = cluster.fit(features_std)"
   ]
  },
  {
   "cell_type": "markdown",
   "metadata": {
    "execution": {
     "iopub.execute_input": "2025-01-21T09:34:10.375529Z",
     "iopub.status.busy": "2025-01-21T09:34:10.375177Z",
     "iopub.status.idle": "2025-01-21T09:34:10.381679Z",
     "shell.execute_reply": "2025-01-21T09:34:10.380167Z",
     "shell.execute_reply.started": "2025-01-21T09:34:10.375504Z"
    }
   },
   "source": [
    "<h1 style = \"font-size:30px; font-family: Calibri\">\n",
    "    Clustering using Meanshift\n",
    "</h1>"
   ]
  },
  {
   "cell_type": "code",
   "execution_count": 14,
   "metadata": {
    "execution": {
     "iopub.execute_input": "2025-01-21T09:34:57.215154Z",
     "iopub.status.busy": "2025-01-21T09:34:57.214780Z",
     "iopub.status.idle": "2025-01-21T09:34:58.892381Z",
     "shell.execute_reply": "2025-01-21T09:34:58.888835Z",
     "shell.execute_reply.started": "2025-01-21T09:34:57.215126Z"
    },
    "trusted": true
   },
   "outputs": [],
   "source": [
    "cluster = MeanShift(n_jobs = -1)\n",
    "model = cluster.fit(features_std)"
   ]
  },
  {
   "cell_type": "code",
   "execution_count": 15,
   "metadata": {
    "execution": {
     "iopub.execute_input": "2025-01-21T09:35:07.313127Z",
     "iopub.status.busy": "2025-01-21T09:35:07.312728Z",
     "iopub.status.idle": "2025-01-21T09:35:07.321166Z",
     "shell.execute_reply": "2025-01-21T09:35:07.319759Z",
     "shell.execute_reply.started": "2025-01-21T09:35:07.313093Z"
    },
    "trusted": true
   },
   "outputs": [
    {
     "data": {
      "text/plain": [
       "array([0])"
      ]
     },
     "execution_count": 15,
     "metadata": {},
     "output_type": "execute_result"
    }
   ],
   "source": [
    "model.predict(new_obs)"
   ]
  },
  {
   "cell_type": "code",
   "execution_count": 17,
   "metadata": {
    "execution": {
     "iopub.execute_input": "2025-01-21T09:37:24.744631Z",
     "iopub.status.busy": "2025-01-21T09:37:24.744266Z",
     "iopub.status.idle": "2025-01-21T09:37:24.765166Z",
     "shell.execute_reply": "2025-01-21T09:37:24.764319Z",
     "shell.execute_reply.started": "2025-01-21T09:37:24.744603Z"
    },
    "trusted": true
   },
   "outputs": [],
   "source": [
    "cluster = DBSCAN(n_jobs = -1)\n",
    "model = cluster.fit(features_std)"
   ]
  },
  {
   "cell_type": "code",
   "execution_count": 18,
   "metadata": {
    "execution": {
     "iopub.execute_input": "2025-01-21T09:38:36.744815Z",
     "iopub.status.busy": "2025-01-21T09:38:36.744470Z",
     "iopub.status.idle": "2025-01-21T09:38:36.751123Z",
     "shell.execute_reply": "2025-01-21T09:38:36.750247Z",
     "shell.execute_reply.started": "2025-01-21T09:38:36.744791Z"
    },
    "trusted": true
   },
   "outputs": [
    {
     "data": {
      "text/plain": [
       "array([ 0,  0,  0,  0,  0,  0,  0,  0,  0,  0,  0,  0,  0,  0, -1, -1,  0,\n",
       "        0,  0,  0,  0,  0,  0,  0,  0,  0,  0,  0,  0,  0,  0,  0, -1, -1,\n",
       "        0,  0,  0,  0,  0,  0,  0, -1,  0,  0,  0,  0,  0,  0,  0,  0,  1,\n",
       "        1,  1,  1,  1,  1, -1, -1,  1, -1, -1,  1, -1,  1,  1,  1,  1,  1,\n",
       "       -1,  1,  1,  1, -1,  1,  1,  1,  1,  1,  1,  1,  1,  1,  1,  1,  1,\n",
       "       -1,  1, -1,  1,  1,  1,  1,  1, -1,  1,  1,  1,  1, -1,  1, -1,  1,\n",
       "        1,  1,  1, -1, -1, -1, -1, -1,  1,  1,  1,  1, -1,  1,  1, -1, -1,\n",
       "       -1,  1,  1, -1,  1,  1, -1,  1,  1,  1, -1, -1, -1,  1,  1,  1, -1,\n",
       "       -1,  1,  1,  1,  1,  1,  1,  1,  1,  1,  1,  1, -1,  1])"
      ]
     },
     "execution_count": 18,
     "metadata": {},
     "output_type": "execute_result"
    }
   ],
   "source": [
    "model.labels_"
   ]
  },
  {
   "cell_type": "markdown",
   "metadata": {
    "execution": {
     "iopub.execute_input": "2025-01-21T09:39:11.228925Z",
     "iopub.status.busy": "2025-01-21T09:39:11.228592Z",
     "iopub.status.idle": "2025-01-21T09:39:11.235185Z",
     "shell.execute_reply": "2025-01-21T09:39:11.233866Z",
     "shell.execute_reply.started": "2025-01-21T09:39:11.228880Z"
    }
   },
   "source": [
    "<h1 style = \"font-size:30px; font-family: Calibri\">\n",
    "    Clustering using Heirarchical Merging \n",
    "</h1>"
   ]
  },
  {
   "cell_type": "code",
   "execution_count": null,
   "metadata": {
    "trusted": true
   },
   "outputs": [],
   "source": []
  }
 ],
 "metadata": {
  "kaggle": {
   "accelerator": "none",
   "dataSources": [],
   "dockerImageVersionId": 30839,
   "isGpuEnabled": false,
   "isInternetEnabled": false,
   "language": "python",
   "sourceType": "notebook"
  },
  "kernelspec": {
   "display_name": "Python 3",
   "language": "python",
   "name": "python3"
  },
  "language_info": {
   "codemirror_mode": {
    "name": "ipython",
    "version": 3
   },
   "file_extension": ".py",
   "mimetype": "text/x-python",
   "name": "python",
   "nbconvert_exporter": "python",
   "pygments_lexer": "ipython3",
   "version": "3.10.12"
  }
 },
 "nbformat": 4,
 "nbformat_minor": 4
}
