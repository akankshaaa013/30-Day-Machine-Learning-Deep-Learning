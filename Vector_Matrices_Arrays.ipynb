{
 "cells": [
  {
   "cell_type": "code",
   "execution_count": 1,
   "id": "cd066ae8-944b-4690-b2a6-19d3aa14fc07",
   "metadata": {},
   "outputs": [
    {
     "name": "stdout",
     "output_type": "stream",
     "text": [
      "Requirement already satisfied: numpy in c:\\users\\akank\\anaconda3\\lib\\site-packages (1.26.4)\n"
     ]
    }
   ],
   "source": [
    "!pip install numpy"
   ]
  },
  {
   "cell_type": "code",
   "execution_count": 2,
   "id": "1f9f954e-f3e2-427e-b0ec-9c72c4640d24",
   "metadata": {},
   "outputs": [],
   "source": [
    "import numpy as np"
   ]
  },
  {
   "cell_type": "markdown",
   "id": "145cd7d7-25c4-4b55-b7c5-c3496e3425fb",
   "metadata": {},
   "source": [
    "### Creating a Vector\n",
    "A vector has a both Magnitude and Direction."
   ]
  },
  {
   "cell_type": "code",
   "execution_count": 5,
   "id": "41a0acd9-644d-4b7f-8fda-36b68885f037",
   "metadata": {},
   "outputs": [
    {
     "data": {
      "text/plain": [
       "array([1, 2, 3])"
      ]
     },
     "execution_count": 5,
     "metadata": {},
     "output_type": "execute_result"
    }
   ],
   "source": [
    "vector_row = np.array([1, 2, 3])\n",
    "vector_row"
   ]
  },
  {
   "cell_type": "code",
   "execution_count": 11,
   "id": "f06e5e61-ab03-4552-8c02-70970cef017a",
   "metadata": {},
   "outputs": [
    {
     "name": "stdout",
     "output_type": "stream",
     "text": [
      "[[1 2 3]\n",
      " [4 5 6]\n",
      " [6 7 8]]\n"
     ]
    }
   ],
   "source": [
    "vector_col = np.array([\n",
    "    [1, 2, 3],\n",
    "    [4, 5, 6],\n",
    "    [6, 7, 8]\n",
    "])\n",
    "print(vector_col)"
   ]
  },
  {
   "cell_type": "markdown",
   "id": "d3432860-57fd-45f7-a81e-d01aac0cd63f",
   "metadata": {},
   "source": [
    "### Creating a Matrix"
   ]
  },
  {
   "cell_type": "code",
   "execution_count": 18,
   "id": "1bb7e69e-8031-4ace-b33a-e3ea76f939cc",
   "metadata": {},
   "outputs": [
    {
     "data": {
      "text/plain": [
       "array([[1, 2],\n",
       "       [1, 2],\n",
       "       [1, 2]])"
      ]
     },
     "execution_count": 18,
     "metadata": {},
     "output_type": "execute_result"
    }
   ],
   "source": [
    "matrix = np.array([\n",
    "    [1,2],\n",
    "    [1,2],\n",
    "    [1,2]\n",
    "])\n",
    "matrix"
   ]
  },
  {
   "cell_type": "code",
   "execution_count": 20,
   "id": "30887611-508f-420f-acd2-7f4e5d57110f",
   "metadata": {},
   "outputs": [
    {
     "data": {
      "text/plain": [
       "matrix([[1, 2],\n",
       "        [1, 2],\n",
       "        [1, 2]])"
      ]
     },
     "execution_count": 20,
     "metadata": {},
     "output_type": "execute_result"
    }
   ],
   "source": [
    "# Numpy actually has a dedicated matrix data structure\n",
    "matrix_obj = np.mat([\n",
    "    [1,2],\n",
    "    [1,2],\n",
    "    [1,2]\n",
    "])\n",
    "matrix_obj"
   ]
  },
  {
   "cell_type": "markdown",
   "id": "e056c4c6-e005-4261-b9aa-3eee79a95c15",
   "metadata": {},
   "source": [
    "#### Matrix data structure is not recommended for 2 reasons:\n",
    "<div style=\"font-size:15px\">\n",
    "Arrays are the de facto standard data structure of numpy. <br>\n",
    "Majority of numpy operations returns array, not matrix objects.\n",
    "</div>"
   ]
  },
  {
   "cell_type": "markdown",
   "id": "f4941081-a46c-40d1-a1d8-47f3218a2930",
   "metadata": {},
   "source": [
    "### Creating a Sparse Matrix\n",
    "<div style=\"font-size:15px\">\n",
    "    A frequent situation in machine learning is having huge amount of data where most of the datas are zeros. <br> Sparse matrices only store non-zero elements and assumes all the other values will be 0, leading to significant computational savings.\n",
    "</div>"
   ]
  },
  {
   "cell_type": "code",
   "execution_count": 54,
   "id": "e6d518d2-e69a-43f9-beca-8c39dd746b72",
   "metadata": {},
   "outputs": [
    {
     "name": "stdout",
     "output_type": "stream",
     "text": [
      "  (0, 0)\t33\n",
      "  (0, 1)\t1\n",
      "  (1, 2)\t10\n",
      "  (2, 0)\t3\n"
     ]
    }
   ],
   "source": [
    "from scipy import sparse\n",
    "matrix = np.array([\n",
    "    [33, 1, 0],\n",
    "    [0, 0, 10],\n",
    "    [3, 0, 0]\n",
    "])\n",
    "matrix_sparse = sparse.csr_matrix(matrix) # Compressed sparse row matrices where non-zero elements and their positions are stored.\n",
    "print(matrix_sparse)"
   ]
  },
  {
   "cell_type": "code",
   "execution_count": 72,
   "id": "4caaf5c5-96a6-49e2-b869-a5d35dea9aef",
   "metadata": {},
   "outputs": [
    {
     "name": "stdout",
     "output_type": "stream",
     "text": [
      "  (0, 0)\t33\n",
      "  (0, 1)\t1\n",
      "  (1, 19)\t10\n",
      "  (2, 0)\t3\n"
     ]
    }
   ],
   "source": [
    "matrix_large = np.array([\n",
    "    [33, 1, 0, 0, 0, 0, 0, 0, 0, 0, 0, 0, 0, 0, 0, 0, 0, 0, 0, 0],\n",
    "    [0, 0, 0, 0, 0, 0, 0, 0, 0, 0, 0, 0, 0, 0, 0, 0, 0, 0, 0, 10],\n",
    "    [3, 0, 0, 0, 0, 0, 0, 0, 0, 0, 0, 0, 0, 0, 0, 0, 0, 0, 0, 0]\n",
    "])\n",
    "matrix_large_sparse = sparse.csr_matrix(matrix_large)\n",
    "print(matrix_large_sparse) # Row-wise representation"
   ]
  },
  {
   "cell_type": "markdown",
   "id": "20d8749f-ebe5-49a4-8ba4-d1971559feb4",
   "metadata": {},
   "source": [
    "<div style=\"font-size:15px\">\n",
    "    Despite the fact that we have added so many zeros in the matrix, the sparse matrix representation remains the same. That is, addition of zero elements did not change the size of the sparse matrix.\n",
    "</div>"
   ]
  },
  {
   "cell_type": "code",
   "execution_count": 75,
   "id": "21e0a329-56ba-443f-a5bc-04b89ff3d278",
   "metadata": {},
   "outputs": [
    {
     "name": "stdout",
     "output_type": "stream",
     "text": [
      "  (0, 0)\t33\n",
      "  (2, 0)\t3\n",
      "  (0, 1)\t1\n",
      "  (1, 19)\t10\n"
     ]
    }
   ],
   "source": [
    "matrix_large_sparse = sparse.csc_matrix(matrix_large)\n",
    "print(matrix_large_sparse) # Column-wis representation"
   ]
  },
  {
   "cell_type": "code",
   "execution_count": 77,
   "id": "90132813-0887-43ba-ad4b-51e97b4e077c",
   "metadata": {},
   "outputs": [
    {
     "name": "stdout",
     "output_type": "stream",
     "text": [
      "[[33  1  0  0  0  0  0  0  0  0  0  0  0  0  0  0  0  0  0  0]\n",
      " [ 0  0  0  0  0  0  0  0  0  0  0  0  0  0  0  0  0  0  0 10]\n",
      " [ 3  0  0  0  0  0  0  0  0  0  0  0  0  0  0  0  0  0  0  0]]\n"
     ]
    }
   ],
   "source": [
    "print(matrix_large_sparse.toarray()) # Converting the sparse matrix back to original 2-D array"
   ]
  },
  {
   "cell_type": "code",
   "execution_count": 79,
   "id": "db1561ec-fb5c-4870-9144-a7e788ed6c4a",
   "metadata": {},
   "outputs": [
    {
     "name": "stdout",
     "output_type": "stream",
     "text": [
      "Size in bytes of original matrix: 240\n",
      "Size in bytes of compressed sparse column matrix: 116\n"
     ]
    }
   ],
   "source": [
    "print(f\"Size in bytes of original matrix: {matrix_large.nbytes}\")\n",
    "print(f\"Size in bytes of compressed sparse column matrix: {matrix_large_sparse.data.nbytes + matrix_large_sparse.indptr.nbytes + matrix_large_sparse.indices.nbytes}\")"
   ]
  },
  {
   "cell_type": "markdown",
   "id": "2f392e1c-639d-4593-8f3c-62b6001de364",
   "metadata": {},
   "source": [
    "<div style=\"font-size:15px\">\n",
    "    The standard numpy representation takes 240 bytes while the sparse representation takes the half of actual size i.e., 116 bytes.\n",
    "</div>"
   ]
  },
  {
   "cell_type": "markdown",
   "id": "68b39675-fe27-4db3-b8f2-d949643e3952",
   "metadata": {},
   "source": [
    "### Pre-allocating the Numpy Arrays\n",
    "<div style=\"font-size:15px\">\n",
    "    Numpy has the functions for generating vectors and matrices of any size using 0s, 1s or values of your choice.\n",
    "</div>"
   ]
  },
  {
   "cell_type": "code",
   "execution_count": 98,
   "id": "ed05cbc0-f78f-476e-8d2a-1803800c18fc",
   "metadata": {},
   "outputs": [
    {
     "name": "stdout",
     "output_type": "stream",
     "text": [
      "[0. 0. 0. 0. 0.]\n",
      "float64\n"
     ]
    }
   ],
   "source": [
    "vector = np.zeros(shape = 5)\n",
    "print(vector, vector.dtype, sep=\"\\n\")"
   ]
  },
  {
   "cell_type": "code",
   "execution_count": 108,
   "id": "4a2382e7-0243-4465-86aa-bbd0d40381a8",
   "metadata": {},
   "outputs": [
    {
     "name": "stdout",
     "output_type": "stream",
     "text": [
      "[[45. 45. 45.]\n",
      " [45. 45. 45.]\n",
      " [45. 45. 45.]]\n",
      "float64\n"
     ]
    }
   ],
   "source": [
    "matrix = np.full(shape = (3,3), fill_value = 45, dtype=\"float\")\n",
    "print(matrix, matrix.dtype, sep=\"\\n\")"
   ]
  },
  {
   "cell_type": "markdown",
   "id": "03896460-3bd3-485c-a095-67c1cb280987",
   "metadata": {},
   "source": [
    "<div style=\"font-size:15px\">\n",
    "    Generating the array pre-filled with data is useful for number of purposes, such as making code more performant or having sythetic data to test the algorithms with.\n",
    "</div>"
   ]
  },
  {
   "cell_type": "markdown",
   "id": "5c15e1ed-4f2c-491a-96b0-f16f9a3313cc",
   "metadata": {},
   "source": [
    "### Selecting Elements\n",
    "<div style=\"font-size:15px\">\n",
    "    NumPy array makes it easy to select the elements from vector/array.\n",
    "</div>"
   ]
  },
  {
   "cell_type": "code",
   "execution_count": 8,
   "id": "783f8894-6cad-410b-8773-700bb5afc90c",
   "metadata": {},
   "outputs": [],
   "source": [
    "vector = np.array([1, 2, 3, 4, 5, 6])\n",
    "matrix = np.array([\n",
    "    [1, 2, 3],\n",
    "    [4, 5, 6],\n",
    "    [7, 8, 9]\n",
    "])"
   ]
  },
  {
   "cell_type": "code",
   "execution_count": 10,
   "id": "37cfc5a3-e119-4b01-b65b-7bafd6df3ad9",
   "metadata": {},
   "outputs": [
    {
     "data": {
      "text/plain": [
       "3"
      ]
     },
     "execution_count": 10,
     "metadata": {},
     "output_type": "execute_result"
    }
   ],
   "source": [
    "vector[2]"
   ]
  },
  {
   "cell_type": "code",
   "execution_count": 14,
   "id": "0c6b841b-ff2c-4c0d-a284-c259cedff38a",
   "metadata": {},
   "outputs": [
    {
     "data": {
      "text/plain": [
       "5"
      ]
     },
     "execution_count": 14,
     "metadata": {},
     "output_type": "execute_result"
    }
   ],
   "source": [
    "matrix[1,1]"
   ]
  },
  {
   "cell_type": "code",
   "execution_count": 16,
   "id": "c93a2206-bd0b-4d71-91d7-03514ed0d08c",
   "metadata": {},
   "outputs": [
    {
     "data": {
      "text/plain": [
       "array([1, 2, 3, 4, 5, 6])"
      ]
     },
     "execution_count": 16,
     "metadata": {},
     "output_type": "execute_result"
    }
   ],
   "source": [
    "vector[:]"
   ]
  },
  {
   "cell_type": "code",
   "execution_count": 18,
   "id": "0dba1460-2084-432f-a48d-76dd93762232",
   "metadata": {},
   "outputs": [
    {
     "data": {
      "text/plain": [
       "array([4, 5, 6])"
      ]
     },
     "execution_count": 18,
     "metadata": {},
     "output_type": "execute_result"
    }
   ],
   "source": [
    "vector[3:]"
   ]
  },
  {
   "cell_type": "code",
   "execution_count": 20,
   "id": "f791975a-5f10-4fee-9fe3-292626d2e467",
   "metadata": {},
   "outputs": [
    {
     "data": {
      "text/plain": [
       "6"
      ]
     },
     "execution_count": 20,
     "metadata": {},
     "output_type": "execute_result"
    }
   ],
   "source": [
    "vector[-1]"
   ]
  },
  {
   "cell_type": "code",
   "execution_count": 22,
   "id": "b60ff03b-6237-41ad-9228-8654f64c48ce",
   "metadata": {},
   "outputs": [
    {
     "data": {
      "text/plain": [
       "array([6, 5, 4, 3, 2, 1])"
      ]
     },
     "execution_count": 22,
     "metadata": {},
     "output_type": "execute_result"
    }
   ],
   "source": [
    "vector[::-1]"
   ]
  },
  {
   "cell_type": "code",
   "execution_count": 24,
   "id": "a27384e4-1957-402b-b2fe-a490dbbbd971",
   "metadata": {},
   "outputs": [
    {
     "data": {
      "text/plain": [
       "array([[1, 2, 3],\n",
       "       [4, 5, 6]])"
      ]
     },
     "execution_count": 24,
     "metadata": {},
     "output_type": "execute_result"
    }
   ],
   "source": [
    "matrix[:2,:]"
   ]
  },
  {
   "cell_type": "code",
   "execution_count": 32,
   "id": "65028ebe-44f9-44d8-b55c-a6ac92ead55a",
   "metadata": {},
   "outputs": [
    {
     "data": {
      "text/plain": [
       "array([2, 5, 8])"
      ]
     },
     "execution_count": 32,
     "metadata": {},
     "output_type": "execute_result"
    }
   ],
   "source": [
    "matrix[:,1]"
   ]
  },
  {
   "cell_type": "code",
   "execution_count": 28,
   "id": "9d5f82a0-8ec5-4fce-af0c-e9fb63827a39",
   "metadata": {},
   "outputs": [
    {
     "data": {
      "text/plain": [
       "array([[2],\n",
       "       [5],\n",
       "       [8]])"
      ]
     },
     "execution_count": 28,
     "metadata": {},
     "output_type": "execute_result"
    }
   ],
   "source": [
    "matrix[:,1:2]"
   ]
  },
  {
   "cell_type": "markdown",
   "id": "7bb77be1-f969-4167-945a-6d375b4319e5",
   "metadata": {},
   "source": [
    "### Describing the Matrix\n",
    "<div style=\"font-size:15px\">\n",
    "    Using the shape, size and ndim attributes of numpy object\n",
    "</div>"
   ]
  },
  {
   "cell_type": "code",
   "execution_count": 36,
   "id": "a3db6908-722d-4d49-930b-8af1382b6818",
   "metadata": {},
   "outputs": [
    {
     "data": {
      "text/plain": [
       "(3, 3)"
      ]
     },
     "execution_count": 36,
     "metadata": {},
     "output_type": "execute_result"
    }
   ],
   "source": [
    "matrix.shape"
   ]
  },
  {
   "cell_type": "code",
   "execution_count": 38,
   "id": "3bf0099b-8408-47dc-bcc5-29a411138473",
   "metadata": {},
   "outputs": [
    {
     "data": {
      "text/plain": [
       "9"
      ]
     },
     "execution_count": 38,
     "metadata": {},
     "output_type": "execute_result"
    }
   ],
   "source": [
    "matrix.size"
   ]
  },
  {
   "cell_type": "code",
   "execution_count": 40,
   "id": "8209625f-5ed3-41a4-af66-514b36ae8be6",
   "metadata": {},
   "outputs": [
    {
     "data": {
      "text/plain": [
       "2"
      ]
     },
     "execution_count": 40,
     "metadata": {},
     "output_type": "execute_result"
    }
   ],
   "source": [
    "matrix.ndim"
   ]
  },
  {
   "cell_type": "markdown",
   "id": "40b927e6-6c03-44d0-8c4b-a046e904f7db",
   "metadata": {},
   "source": [
    "### Apply Functions over Each Element of the Numpy Array\n",
    "<div style=\"font-size:15px\">\n",
    "    NumPy's Vectorize method\n",
    "</div>"
   ]
  },
  {
   "cell_type": "code",
   "execution_count": 46,
   "id": "8ea9b9b8-cf9e-4767-b01a-4063c5478fe1",
   "metadata": {},
   "outputs": [
    {
     "data": {
      "text/plain": [
       "<numpy.vectorize at 0x20887b37800>"
      ]
     },
     "execution_count": 46,
     "metadata": {},
     "output_type": "execute_result"
    }
   ],
   "source": [
    "vectorize_method = np.vectorize(lambda x : x + 100)\n",
    "vectorize_method"
   ]
  },
  {
   "cell_type": "code",
   "execution_count": 48,
   "id": "30d6ebe7-4fd0-42d3-8a48-5bb7bea9e8e5",
   "metadata": {},
   "outputs": [
    {
     "data": {
      "text/plain": [
       "array([[101, 102, 103],\n",
       "       [104, 105, 106],\n",
       "       [107, 108, 109]])"
      ]
     },
     "execution_count": 48,
     "metadata": {},
     "output_type": "execute_result"
    }
   ],
   "source": [
    "vectorize_method(matrix)"
   ]
  },
  {
   "cell_type": "code",
   "execution_count": 50,
   "id": "aba20650-e9db-489a-9250-56d6eeccf9b6",
   "metadata": {},
   "outputs": [
    {
     "data": {
      "text/plain": [
       "array([[101, 102, 103],\n",
       "       [104, 105, 106],\n",
       "       [107, 108, 109]])"
      ]
     },
     "execution_count": 50,
     "metadata": {},
     "output_type": "execute_result"
    }
   ],
   "source": [
    "# Using Broadcasting\n",
    "matrix + 100"
   ]
  },
  {
   "cell_type": "markdown",
   "id": "001371a9-f880-407e-b559-43a12c95fbe0",
   "metadata": {},
   "source": [
    "### Finding the maximum and minimum values"
   ]
  },
  {
   "cell_type": "code",
   "execution_count": 54,
   "id": "e7adc43e-d093-4a5d-a6c8-b9f73ac29c96",
   "metadata": {},
   "outputs": [
    {
     "data": {
      "text/plain": [
       "9"
      ]
     },
     "execution_count": 54,
     "metadata": {},
     "output_type": "execute_result"
    }
   ],
   "source": [
    "np.max(matrix)"
   ]
  },
  {
   "cell_type": "code",
   "execution_count": 58,
   "id": "2cf5fb29-f121-42fe-b36d-4877e28cd8e9",
   "metadata": {},
   "outputs": [
    {
     "data": {
      "text/plain": [
       "1"
      ]
     },
     "execution_count": 58,
     "metadata": {},
     "output_type": "execute_result"
    }
   ],
   "source": [
    "np.min(matrix)"
   ]
  },
  {
   "cell_type": "code",
   "execution_count": 62,
   "id": "2b8479cf-88b6-42a6-914d-5ea977ec7776",
   "metadata": {},
   "outputs": [
    {
     "data": {
      "text/plain": [
       "array([7, 8, 9])"
      ]
     },
     "execution_count": 62,
     "metadata": {},
     "output_type": "execute_result"
    }
   ],
   "source": [
    "# Find the maximum element in each column.\n",
    "np.max(matrix, axis=0)"
   ]
  },
  {
   "cell_type": "code",
   "execution_count": 64,
   "id": "137c9807-ca4d-4923-945b-ddbc0792f8f7",
   "metadata": {},
   "outputs": [
    {
     "data": {
      "text/plain": [
       "array([3, 6, 9])"
      ]
     },
     "execution_count": 64,
     "metadata": {},
     "output_type": "execute_result"
    }
   ],
   "source": [
    "# Find the maximum element in each row.\n",
    "np.max(matrix, axis=1)"
   ]
  },
  {
   "cell_type": "markdown",
   "id": "d2b191e4-0d05-48d8-8229-59de49a295db",
   "metadata": {},
   "source": [
    "### Calculating the Average, Variance & Standard Deviation"
   ]
  },
  {
   "cell_type": "code",
   "execution_count": 68,
   "id": "e876b0c5-8ee6-45a9-ab1e-9980995b9e2f",
   "metadata": {},
   "outputs": [
    {
     "data": {
      "text/plain": [
       "5.0"
      ]
     },
     "execution_count": 68,
     "metadata": {},
     "output_type": "execute_result"
    }
   ],
   "source": [
    "np.mean(matrix)"
   ]
  },
  {
   "cell_type": "code",
   "execution_count": 70,
   "id": "102bb52a-6146-4b4d-b5ff-0a70d222a697",
   "metadata": {},
   "outputs": [
    {
     "data": {
      "text/plain": [
       "6.666666666666667"
      ]
     },
     "execution_count": 70,
     "metadata": {},
     "output_type": "execute_result"
    }
   ],
   "source": [
    "np.var(matrix)"
   ]
  },
  {
   "cell_type": "code",
   "execution_count": 72,
   "id": "21e60219-ef46-4201-abc4-8fd78a2a3cf1",
   "metadata": {},
   "outputs": [
    {
     "data": {
      "text/plain": [
       "2.581988897471611"
      ]
     },
     "execution_count": 72,
     "metadata": {},
     "output_type": "execute_result"
    }
   ],
   "source": [
    "np.std(matrix)"
   ]
  },
  {
   "cell_type": "markdown",
   "id": "56a6c191-a469-44e0-8bf1-49de27326a08",
   "metadata": {},
   "source": [
    "### Reshaping the Array"
   ]
  },
  {
   "cell_type": "code",
   "execution_count": 75,
   "id": "322726e1-a18e-4312-ab31-385b50c78018",
   "metadata": {},
   "outputs": [
    {
     "name": "stdout",
     "output_type": "stream",
     "text": [
      "[[ 1  2  3  4]\n",
      " [ 5  6  7  8]\n",
      " [10 11 12 13]]\n"
     ]
    }
   ],
   "source": [
    "matrix = np.array([\n",
    "    [1, 2, 3, 4],\n",
    "    [5, 6, 7, 8],\n",
    "    [10, 11, 12, 13]\n",
    "])\n",
    "print(matrix)"
   ]
  },
  {
   "cell_type": "code",
   "execution_count": 77,
   "id": "c8b27221-035a-45ff-91b4-b5d6d9887741",
   "metadata": {},
   "outputs": [
    {
     "data": {
      "text/plain": [
       "array([[ 1,  2,  3],\n",
       "       [ 4,  5,  6],\n",
       "       [ 7,  8, 10],\n",
       "       [11, 12, 13]])"
      ]
     },
     "execution_count": 77,
     "metadata": {},
     "output_type": "execute_result"
    }
   ],
   "source": [
    "matrix.reshape(4,3)"
   ]
  },
  {
   "cell_type": "code",
   "execution_count": 79,
   "id": "0d0e7d65-7b14-4f20-87ae-6357fd974381",
   "metadata": {},
   "outputs": [
    {
     "data": {
      "text/plain": [
       "array([[ 1,  2],\n",
       "       [ 3,  4],\n",
       "       [ 5,  6],\n",
       "       [ 7,  8],\n",
       "       [10, 11],\n",
       "       [12, 13]])"
      ]
     },
     "execution_count": 79,
     "metadata": {},
     "output_type": "execute_result"
    }
   ],
   "source": [
    "matrix.reshape(6,2)"
   ]
  },
  {
   "cell_type": "code",
   "execution_count": 83,
   "id": "f403a5fb-2d55-43ca-8288-db05496d0f1c",
   "metadata": {},
   "outputs": [],
   "source": [
    "# matrix.reshape(3,5)\n",
    "# ValueError                                Traceback (most recent call last)\n",
    "# Cell In[81], line 1\n",
    "# ----> 1 matrix.reshape(3,5)\n",
    "\n",
    "# ValueError: cannot reshape array of size 12 into shape (3,5)"
   ]
  },
  {
   "cell_type": "markdown",
   "id": "14faf6cd-c89f-44f5-bc00-bfcb5e168b3e",
   "metadata": {},
   "source": [
    "<div style=\"font-size:15px\">\n",
    "    One useful argument in reshape is -1, which effetively means \"As Many As Needed\", so reshape (1, -1) means one row and as many columns as needed.\n",
    "</div>"
   ]
  },
  {
   "cell_type": "code",
   "execution_count": 88,
   "id": "d0da0438-3276-4302-aabd-b99b8fb87158",
   "metadata": {},
   "outputs": [
    {
     "data": {
      "text/plain": [
       "array([[ 1,  2,  3,  4,  5,  6,  7,  8, 10, 11, 12, 13]])"
      ]
     },
     "execution_count": 88,
     "metadata": {},
     "output_type": "execute_result"
    }
   ],
   "source": [
    "matrix.reshape(1, -1)"
   ]
  },
  {
   "cell_type": "code",
   "execution_count": 90,
   "id": "d9fc488b-babd-4266-8c67-5316b899cef3",
   "metadata": {},
   "outputs": [
    {
     "data": {
      "text/plain": [
       "array([[ 1],\n",
       "       [ 2],\n",
       "       [ 3],\n",
       "       [ 4],\n",
       "       [ 5],\n",
       "       [ 6],\n",
       "       [ 7],\n",
       "       [ 8],\n",
       "       [10],\n",
       "       [11],\n",
       "       [12],\n",
       "       [13]])"
      ]
     },
     "execution_count": 90,
     "metadata": {},
     "output_type": "execute_result"
    }
   ],
   "source": [
    "matrix.reshape(-1, 1)"
   ]
  },
  {
   "cell_type": "code",
   "execution_count": 99,
   "id": "fd619e89-7aea-42fe-862d-4f65f973c54c",
   "metadata": {},
   "outputs": [
    {
     "data": {
      "text/plain": [
       "array([ 1,  2,  3,  4,  5,  6,  7,  8, 10, 11, 12, 13])"
      ]
     },
     "execution_count": 99,
     "metadata": {},
     "output_type": "execute_result"
    }
   ],
   "source": [
    "matrix.reshape(12)"
   ]
  },
  {
   "cell_type": "markdown",
   "id": "23f5feab-5408-4a68-9587-500135b5b758",
   "metadata": {},
   "source": [
    "### Transposing a Vector/Matrix"
   ]
  },
  {
   "cell_type": "code",
   "execution_count": 102,
   "id": "89201ec9-a136-40c3-b626-8a6bda38a2e2",
   "metadata": {},
   "outputs": [
    {
     "name": "stdout",
     "output_type": "stream",
     "text": [
      "[[ 1  2  3  4]\n",
      " [ 5  6  7  8]\n",
      " [10 11 12 13]]\n"
     ]
    }
   ],
   "source": [
    "print(matrix)"
   ]
  },
  {
   "cell_type": "code",
   "execution_count": 104,
   "id": "281dce79-53d4-4603-84dd-9f31dd7f6999",
   "metadata": {},
   "outputs": [
    {
     "name": "stdout",
     "output_type": "stream",
     "text": [
      "[[ 1  5 10]\n",
      " [ 2  6 11]\n",
      " [ 3  7 12]\n",
      " [ 4  8 13]]\n"
     ]
    }
   ],
   "source": [
    "print(matrix.T)"
   ]
  },
  {
   "cell_type": "markdown",
   "id": "b926b6f7-d157-4d33-bb3a-3da16dee33bd",
   "metadata": {},
   "source": [
    "### Flattening a Matrix"
   ]
  },
  {
   "cell_type": "code",
   "execution_count": 108,
   "id": "a8c22403-c05a-4c7a-b218-4ede563106d7",
   "metadata": {},
   "outputs": [
    {
     "data": {
      "text/plain": [
       "array([ 1,  2,  3,  4,  5,  6,  7,  8, 10, 11, 12, 13])"
      ]
     },
     "execution_count": 108,
     "metadata": {},
     "output_type": "execute_result"
    }
   ],
   "source": [
    "matrix.flatten()"
   ]
  },
  {
   "cell_type": "markdown",
   "id": "e74dec06-4be9-45c2-a756-a3ff689aea4c",
   "metadata": {},
   "source": [
    "<div style=\"font-size:16px\">\n",
    "    One more method to flatten the array is ravel method. Unlike flatten method, that returns the copy of the orignal object. ravel() operates on the same object and is slightly more faster than flatten(). It also flattens the list of arrays, that is not possible to do using flatten() method.\n",
    "</div>"
   ]
  },
  {
   "cell_type": "code",
   "execution_count": 112,
   "id": "e5058102-87a6-41be-a6ca-3781ac761139",
   "metadata": {},
   "outputs": [
    {
     "name": "stdout",
     "output_type": "stream",
     "text": [
      "[array([[1, 2],\n",
      "       [3, 4]]), array([[5, 6],\n",
      "       [7, 8]])]\n"
     ]
    }
   ],
   "source": [
    "a = np.array([\n",
    "    [1, 2],\n",
    "    [3, 4]\n",
    "])\n",
    "b = np.array([\n",
    "    [5, 6],\n",
    "    [7, 8]\n",
    "])\n",
    "\n",
    "c = [a, b]\n",
    "print(c)"
   ]
  },
  {
   "cell_type": "code",
   "execution_count": 116,
   "id": "e48483ee-760e-464d-9f98-61876de23268",
   "metadata": {},
   "outputs": [
    {
     "data": {
      "text/plain": [
       "array([1, 2, 3, 4, 5, 6, 7, 8])"
      ]
     },
     "execution_count": 116,
     "metadata": {},
     "output_type": "execute_result"
    }
   ],
   "source": [
    "np.ravel(c)"
   ]
  },
  {
   "cell_type": "markdown",
   "id": "358c0bd6-0743-40f5-a626-18be54bcd198",
   "metadata": {},
   "source": [
    "### Finding the rank of the matrix."
   ]
  },
  {
   "cell_type": "code",
   "execution_count": 119,
   "id": "0377509f-1913-461e-a579-fa7a72da2260",
   "metadata": {},
   "outputs": [
    {
     "data": {
      "text/plain": [
       "2"
      ]
     },
     "execution_count": 119,
     "metadata": {},
     "output_type": "execute_result"
    }
   ],
   "source": [
    "np.linalg.matrix_rank(matrix)"
   ]
  },
  {
   "cell_type": "markdown",
   "id": "c80688c3-8a52-4cc5-85c6-ee2281a153c8",
   "metadata": {},
   "source": [
    "### Getting the diagonal of the matrix"
   ]
  },
  {
   "cell_type": "code",
   "execution_count": 126,
   "id": "7a7b339c-f679-4c4f-8551-5f70506cec3a",
   "metadata": {},
   "outputs": [
    {
     "name": "stdout",
     "output_type": "stream",
     "text": [
      "[[ 1  2  3  4]\n",
      " [ 5  6  7  8]\n",
      " [10 11 12 13]]\n"
     ]
    }
   ],
   "source": [
    "print(matrix)"
   ]
  },
  {
   "cell_type": "code",
   "execution_count": 122,
   "id": "9edd3acc-1856-4e25-9864-37e9875bcb18",
   "metadata": {},
   "outputs": [
    {
     "data": {
      "text/plain": [
       "array([ 1,  6, 12])"
      ]
     },
     "execution_count": 122,
     "metadata": {},
     "output_type": "execute_result"
    }
   ],
   "source": [
    "matrix.diagonal()"
   ]
  },
  {
   "cell_type": "code",
   "execution_count": 130,
   "id": "b9b3b59b-6715-4795-ad11-9274f6f79e0d",
   "metadata": {},
   "outputs": [
    {
     "data": {
      "text/plain": [
       "array([ 2,  7, 13])"
      ]
     },
     "execution_count": 130,
     "metadata": {},
     "output_type": "execute_result"
    }
   ],
   "source": [
    "# Return the diagonal one above the main diagonal\n",
    "matrix.diagonal(offset=1)"
   ]
  },
  {
   "cell_type": "code",
   "execution_count": 134,
   "id": "eb6851f9-7be7-4969-82be-13ff86a353df",
   "metadata": {},
   "outputs": [
    {
     "data": {
      "text/plain": [
       "array([ 5, 11])"
      ]
     },
     "execution_count": 134,
     "metadata": {},
     "output_type": "execute_result"
    }
   ],
   "source": [
    "# Return the diagonal one below the main diagonal\n",
    "matrix.diagonal(offset=-1)"
   ]
  },
  {
   "cell_type": "markdown",
   "id": "54b79ee1-c423-4e46-8c93-2f2bf4b706eb",
   "metadata": {},
   "source": [
    "### Getting the trace of the matrix"
   ]
  },
  {
   "cell_type": "code",
   "execution_count": 138,
   "id": "0b3fccca-c728-4c7f-9cb2-26bf84333dd5",
   "metadata": {},
   "outputs": [
    {
     "data": {
      "text/plain": [
       "19"
      ]
     },
     "execution_count": 138,
     "metadata": {},
     "output_type": "execute_result"
    }
   ],
   "source": [
    "matrix.trace()"
   ]
  },
  {
   "cell_type": "code",
   "execution_count": 140,
   "id": "6841c665-508a-48aa-a99a-7da385f2a0de",
   "metadata": {},
   "outputs": [
    {
     "data": {
      "text/plain": [
       "19"
      ]
     },
     "execution_count": 140,
     "metadata": {},
     "output_type": "execute_result"
    }
   ],
   "source": [
    "np.sum(matrix.diagonal())"
   ]
  },
  {
   "cell_type": "code",
   "execution_count": 146,
   "id": "22a73661-f769-46cd-93f3-936d9ee53b7b",
   "metadata": {},
   "outputs": [
    {
     "data": {
      "text/plain": [
       "70"
      ]
     },
     "execution_count": 146,
     "metadata": {},
     "output_type": "execute_result"
    }
   ],
   "source": [
    "a = np.array([1,2,3,4])\n",
    "b = np.array([5,6,7,8])\n",
    "np.dot(a, b)"
   ]
  },
  {
   "cell_type": "code",
   "execution_count": 148,
   "id": "682366d4-9e1b-4b15-93f5-f846be6fc12a",
   "metadata": {},
   "outputs": [
    {
     "data": {
      "text/plain": [
       "70"
      ]
     },
     "execution_count": 148,
     "metadata": {},
     "output_type": "execute_result"
    }
   ],
   "source": [
    "a @ b"
   ]
  },
  {
   "cell_type": "markdown",
   "id": "8bc25219-a565-4f4e-9ad0-11df953b8a32",
   "metadata": {},
   "source": [
    "### Adding Subtracting & Multiplying the matrices"
   ]
  },
  {
   "cell_type": "code",
   "execution_count": 151,
   "id": "a87b7591-2be6-4c2d-b6f3-2ae269430c0c",
   "metadata": {},
   "outputs": [],
   "source": [
    "mat_a = np.array([[1,2,3],[4,5,6],[7,8,9]])\n",
    "mat_b = np.array([[1,1,1],[9,9,9],[3,3,3]])"
   ]
  },
  {
   "cell_type": "code",
   "execution_count": 153,
   "id": "c8b36354-3399-4854-a284-67b35dcca9a7",
   "metadata": {},
   "outputs": [
    {
     "data": {
      "text/plain": [
       "array([[ 2,  3,  4],\n",
       "       [13, 14, 15],\n",
       "       [10, 11, 12]])"
      ]
     },
     "execution_count": 153,
     "metadata": {},
     "output_type": "execute_result"
    }
   ],
   "source": [
    "np.add(mat_a, mat_b)"
   ]
  },
  {
   "cell_type": "code",
   "execution_count": 155,
   "id": "2566416b-f8c1-4350-b19b-d138e53bf405",
   "metadata": {},
   "outputs": [
    {
     "data": {
      "text/plain": [
       "array([[ 0,  1,  2],\n",
       "       [-5, -4, -3],\n",
       "       [ 4,  5,  6]])"
      ]
     },
     "execution_count": 155,
     "metadata": {},
     "output_type": "execute_result"
    }
   ],
   "source": [
    "np.subtract(mat_a, mat_b)"
   ]
  },
  {
   "cell_type": "code",
   "execution_count": 157,
   "id": "e0a7d8c5-9736-4da2-a51b-3b8aa3570a00",
   "metadata": {},
   "outputs": [
    {
     "data": {
      "text/plain": [
       "array([[ 2,  3,  4],\n",
       "       [13, 14, 15],\n",
       "       [10, 11, 12]])"
      ]
     },
     "execution_count": 157,
     "metadata": {},
     "output_type": "execute_result"
    }
   ],
   "source": [
    "mat_a + mat_b"
   ]
  },
  {
   "cell_type": "code",
   "execution_count": 160,
   "id": "76e35b16-45be-4daf-93e4-bf91d185f08e",
   "metadata": {},
   "outputs": [
    {
     "data": {
      "text/plain": [
       "array([[ 28,  28,  28],\n",
       "       [ 67,  67,  67],\n",
       "       [106, 106, 106]])"
      ]
     },
     "execution_count": 160,
     "metadata": {},
     "output_type": "execute_result"
    }
   ],
   "source": [
    "mat_a @ mat_b"
   ]
  },
  {
   "cell_type": "code",
   "execution_count": 162,
   "id": "49e3d36c-0d6b-4d40-a151-821cf10757df",
   "metadata": {},
   "outputs": [
    {
     "data": {
      "text/plain": [
       "array([[ 28,  28,  28],\n",
       "       [ 67,  67,  67],\n",
       "       [106, 106, 106]])"
      ]
     },
     "execution_count": 162,
     "metadata": {},
     "output_type": "execute_result"
    }
   ],
   "source": [
    "np.dot(mat_a, mat_b)"
   ]
  },
  {
   "cell_type": "code",
   "execution_count": 164,
   "id": "ca3b34ff-15c2-42bf-95ef-5820d1a17f37",
   "metadata": {},
   "outputs": [
    {
     "data": {
      "text/plain": [
       "array([[ 1,  2,  3],\n",
       "       [36, 45, 54],\n",
       "       [21, 24, 27]])"
      ]
     },
     "execution_count": 164,
     "metadata": {},
     "output_type": "execute_result"
    }
   ],
   "source": [
    "mat_a*mat_b"
   ]
  },
  {
   "cell_type": "markdown",
   "id": "e59741a2-855b-4f6b-bb9b-f056da9c45b9",
   "metadata": {},
   "source": [
    "### Inverting the Matrix"
   ]
  },
  {
   "cell_type": "code",
   "execution_count": 171,
   "id": "7407ccff-45bd-4404-8a50-dd848b04a63d",
   "metadata": {},
   "outputs": [
    {
     "data": {
      "text/plain": [
       "array([[ 3.15251974e+15, -6.30503948e+15,  3.15251974e+15],\n",
       "       [-6.30503948e+15,  1.26100790e+16, -6.30503948e+15],\n",
       "       [ 3.15251974e+15, -6.30503948e+15,  3.15251974e+15]])"
      ]
     },
     "execution_count": 171,
     "metadata": {},
     "output_type": "execute_result"
    }
   ],
   "source": [
    "matrix = np.array([\n",
    "    [1, 2, 3],\n",
    "    [4, 5, 6],\n",
    "    [7, 8, 9]\n",
    "])\n",
    "np.linalg.inv(matrix)"
   ]
  },
  {
   "cell_type": "code",
   "execution_count": 177,
   "id": "93c5d50e-660c-4caf-b404-392c4ed64602",
   "metadata": {},
   "outputs": [
    {
     "data": {
      "text/plain": [
       "array([[ 0. ,  1. , -0.5],\n",
       "       [ 0. ,  2. , -1. ],\n",
       "       [ 0. ,  3. ,  2.5]])"
      ]
     },
     "execution_count": 177,
     "metadata": {},
     "output_type": "execute_result"
    }
   ],
   "source": [
    "matrix @ np.linalg.inv(matrix)"
   ]
  },
  {
   "cell_type": "markdown",
   "id": "af073ade-d27e-4260-bd7f-630d6e51f94b",
   "metadata": {},
   "source": [
    "### Generating Random values"
   ]
  },
  {
   "cell_type": "code",
   "execution_count": 180,
   "id": "848f746c-22e3-46df-8393-cfb25ae3d212",
   "metadata": {},
   "outputs": [],
   "source": [
    "np.random.seed(12345) # To reproduce the same random values"
   ]
  },
  {
   "cell_type": "code",
   "execution_count": 184,
   "id": "7b676a70-e5b4-404c-bb82-7d65eb4f2d25",
   "metadata": {},
   "outputs": [
    {
     "data": {
      "text/plain": [
       "array([0.20456028, 0.56772503, 0.5955447 ])"
      ]
     },
     "execution_count": 184,
     "metadata": {},
     "output_type": "execute_result"
    }
   ],
   "source": [
    "# Generate 3 random floats from 0 and 1\n",
    "np.random.random(3)"
   ]
  },
  {
   "cell_type": "code",
   "execution_count": 188,
   "id": "f04bb5f1-8d0f-4580-a0a3-f45c827ea880",
   "metadata": {},
   "outputs": [
    {
     "data": {
      "text/plain": [
       "array([7, 6, 0])"
      ]
     },
     "execution_count": 188,
     "metadata": {},
     "output_type": "execute_result"
    }
   ],
   "source": [
    "# Generate 3 random integers between 0 and 10\n",
    "np.random.randint(0, 11, 3)"
   ]
  },
  {
   "cell_type": "code",
   "execution_count": 196,
   "id": "9fa75134-b256-4202-ac26-e0feeecb4f8d",
   "metadata": {},
   "outputs": [
    {
     "data": {
      "text/plain": [
       "array([ 1.18031326,  1.41795968, -1.00970237])"
      ]
     },
     "execution_count": 196,
     "metadata": {},
     "output_type": "execute_result"
    }
   ],
   "source": [
    "# Draw three numbers from a normal distribution with mean 0.0 and standard deviation of 1.0\n",
    "np.random.normal(0, 1, 3)"
   ]
  },
  {
   "cell_type": "code",
   "execution_count": 192,
   "id": "9001e817-403c-4ca4-8040-3c17f336ddbc",
   "metadata": {},
   "outputs": [
    {
     "data": {
      "text/plain": [
       "array([2.28855708, 0.22655328, 1.6576274 ])"
      ]
     },
     "execution_count": 192,
     "metadata": {},
     "output_type": "execute_result"
    }
   ],
   "source": [
    "# Draw three numbers from a logistic distribution with mean 0.0 and scale of 1.0\n",
    "np.random.logistic(0, 1, 3)"
   ]
  },
  {
   "cell_type": "code",
   "execution_count": 194,
   "id": "eba0687a-09c9-4f0e-98cf-23a16d0932f1",
   "metadata": {},
   "outputs": [
    {
     "data": {
      "text/plain": [
       "array([1.05048796, 1.80623485, 1.93081569])"
      ]
     },
     "execution_count": 194,
     "metadata": {},
     "output_type": "execute_result"
    }
   ],
   "source": [
    "# Draw 3 numbers greater than or equal to 1 and less than 2\n",
    "np.random.uniform(1, 2, 3)"
   ]
  },
  {
   "cell_type": "markdown",
   "id": "fb3ce366-b89a-4aa4-ab57-f996bc2b1003",
   "metadata": {},
   "source": [
    "## Done with Day 1 :)"
   ]
  },
  {
   "cell_type": "code",
   "execution_count": null,
   "id": "4c4a114d-ea80-4f3e-a4a3-ae1fd98a08d6",
   "metadata": {},
   "outputs": [],
   "source": []
  }
 ],
 "metadata": {
  "kernelspec": {
   "display_name": "Python 3 (ipykernel)",
   "language": "python",
   "name": "python3"
  },
  "language_info": {
   "codemirror_mode": {
    "name": "ipython",
    "version": 3
   },
   "file_extension": ".py",
   "mimetype": "text/x-python",
   "name": "python",
   "nbconvert_exporter": "python",
   "pygments_lexer": "ipython3",
   "version": "3.12.7"
  }
 },
 "nbformat": 4,
 "nbformat_minor": 5
}
