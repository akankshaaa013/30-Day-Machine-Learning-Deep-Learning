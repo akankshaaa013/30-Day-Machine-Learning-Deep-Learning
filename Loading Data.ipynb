{
 "cells": [
  {
   "cell_type": "markdown",
   "id": "c5c1943b-9827-4664-a4a1-a24f58aeeceb",
   "metadata": {},
   "source": [
    "<h2>Introduction</h2>\n",
    "<div style=\"font-size:18px;font-family:Times New Roman\">\n",
    "    The first step in any machine learning endeavor is to get a raw data into our system. The raw data might be blob file, database, dataset file, or cloud blob store such as Amazon S3.\n",
    "<br><br>\n",
    "    Let's install all the required libraries.\n",
    "</div>"
   ]
  },
  {
   "cell_type": "code",
   "execution_count": 7,
   "id": "04ee0ba6-ca17-4f1c-8763-82f063b55a05",
   "metadata": {},
   "outputs": [
    {
     "name": "stdout",
     "output_type": "stream",
     "text": [
      "Requirement already satisfied: scikit-learn in c:\\users\\akank\\anaconda3\\lib\\site-packages (1.5.1)\n",
      "Requirement already satisfied: numpy>=1.19.5 in c:\\users\\akank\\anaconda3\\lib\\site-packages (from scikit-learn) (1.26.4)\n",
      "Requirement already satisfied: scipy>=1.6.0 in c:\\users\\akank\\anaconda3\\lib\\site-packages (from scikit-learn) (1.13.1)\n",
      "Requirement already satisfied: joblib>=1.2.0 in c:\\users\\akank\\anaconda3\\lib\\site-packages (from scikit-learn) (1.4.2)\n",
      "Requirement already satisfied: threadpoolctl>=3.1.0 in c:\\users\\akank\\anaconda3\\lib\\site-packages (from scikit-learn) (3.5.0)\n",
      "Requirement already satisfied: pandas in c:\\users\\akank\\anaconda3\\lib\\site-packages (2.2.2)\n",
      "Requirement already satisfied: numpy>=1.26.0 in c:\\users\\akank\\anaconda3\\lib\\site-packages (from pandas) (1.26.4)\n",
      "Requirement already satisfied: python-dateutil>=2.8.2 in c:\\users\\akank\\anaconda3\\lib\\site-packages (from pandas) (2.9.0.post0)\n",
      "Requirement already satisfied: pytz>=2020.1 in c:\\users\\akank\\anaconda3\\lib\\site-packages (from pandas) (2024.1)\n",
      "Requirement already satisfied: tzdata>=2022.7 in c:\\users\\akank\\anaconda3\\lib\\site-packages (from pandas) (2023.3)\n",
      "Requirement already satisfied: six>=1.5 in c:\\users\\akank\\anaconda3\\lib\\site-packages (from python-dateutil>=2.8.2->pandas) (1.16.0)\n",
      "Requirement already satisfied: matplotlib in c:\\users\\akank\\anaconda3\\lib\\site-packages (3.9.2)\n",
      "Requirement already satisfied: contourpy>=1.0.1 in c:\\users\\akank\\anaconda3\\lib\\site-packages (from matplotlib) (1.2.0)\n",
      "Requirement already satisfied: cycler>=0.10 in c:\\users\\akank\\anaconda3\\lib\\site-packages (from matplotlib) (0.11.0)\n",
      "Requirement already satisfied: fonttools>=4.22.0 in c:\\users\\akank\\anaconda3\\lib\\site-packages (from matplotlib) (4.51.0)\n",
      "Requirement already satisfied: kiwisolver>=1.3.1 in c:\\users\\akank\\anaconda3\\lib\\site-packages (from matplotlib) (1.4.4)\n",
      "Requirement already satisfied: numpy>=1.23 in c:\\users\\akank\\anaconda3\\lib\\site-packages (from matplotlib) (1.26.4)\n",
      "Requirement already satisfied: packaging>=20.0 in c:\\users\\akank\\anaconda3\\lib\\site-packages (from matplotlib) (24.1)\n",
      "Requirement already satisfied: pillow>=8 in c:\\users\\akank\\anaconda3\\lib\\site-packages (from matplotlib) (10.4.0)\n",
      "Requirement already satisfied: pyparsing>=2.3.1 in c:\\users\\akank\\anaconda3\\lib\\site-packages (from matplotlib) (3.1.2)\n",
      "Requirement already satisfied: python-dateutil>=2.7 in c:\\users\\akank\\anaconda3\\lib\\site-packages (from matplotlib) (2.9.0.post0)\n",
      "Requirement already satisfied: six>=1.5 in c:\\users\\akank\\anaconda3\\lib\\site-packages (from python-dateutil>=2.7->matplotlib) (1.16.0)\n",
      "Requirement already satisfied: pandavro in c:\\users\\akank\\anaconda3\\lib\\site-packages (1.8.0)\n",
      "Requirement already satisfied: fastavro<2.0.0,>=1.5.1 in c:\\users\\akank\\anaconda3\\lib\\site-packages (from pandavro) (1.9.7)\n",
      "Requirement already satisfied: pandas>=1.1 in c:\\users\\akank\\anaconda3\\lib\\site-packages (from pandavro) (2.2.2)\n",
      "Requirement already satisfied: numpy>=1.15.4 in c:\\users\\akank\\anaconda3\\lib\\site-packages (from pandavro) (1.26.4)\n",
      "Requirement already satisfied: python-dateutil>=2.8.2 in c:\\users\\akank\\anaconda3\\lib\\site-packages (from pandas>=1.1->pandavro) (2.9.0.post0)\n",
      "Requirement already satisfied: pytz>=2020.1 in c:\\users\\akank\\anaconda3\\lib\\site-packages (from pandas>=1.1->pandavro) (2024.1)\n",
      "Requirement already satisfied: tzdata>=2022.7 in c:\\users\\akank\\anaconda3\\lib\\site-packages (from pandas>=1.1->pandavro) (2023.3)\n",
      "Requirement already satisfied: six>=1.5 in c:\\users\\akank\\anaconda3\\lib\\site-packages (from python-dateutil>=2.8.2->pandas>=1.1->pandavro) (1.16.0)\n",
      "Requirement already satisfied: sqlalchemy in c:\\users\\akank\\anaconda3\\lib\\site-packages (2.0.34)\n",
      "Requirement already satisfied: typing-extensions>=4.6.0 in c:\\users\\akank\\anaconda3\\lib\\site-packages (from sqlalchemy) (4.11.0)\n",
      "Requirement already satisfied: greenlet!=0.4.17 in c:\\users\\akank\\anaconda3\\lib\\site-packages (from sqlalchemy) (3.0.1)\n"
     ]
    }
   ],
   "source": [
    "!pip install scikit-learn\n",
    "!pip install pandas\n",
    "!pip install matplotlib\n",
    "!pip install pandavro\n",
    "!pip install sqlalchemy"
   ]
  },
  {
   "cell_type": "code",
   "execution_count": 16,
   "id": "af6c0c8b-29cf-4afc-bda0-faf12b02d17f",
   "metadata": {},
   "outputs": [],
   "source": [
    "from sklearn import datasets\n",
    "import pandas as pd\n",
    "import matplotlib.pyplot as plt\n",
    "%matplotlib inline\n",
    "import pandavro as pdx\n",
    "import requests\n",
    "from sqlalchemy import create_engine"
   ]
  },
  {
   "cell_type": "markdown",
   "id": "2a9c9db4-3809-41a0-bdab-5a2b27157ae6",
   "metadata": {},
   "source": [
    "<h2>Loading the Sample Dataset</h2>\n",
    "<div style=\"font-size:18px;font-family:Times New Roman\">\n",
    "    Scikit learn comes with number of popular datasets to use.    \n",
    "</div>"
   ]
  },
  {
   "cell_type": "code",
   "execution_count": 30,
   "id": "8401d979-0486-4e01-86b8-5a1e26de285a",
   "metadata": {},
   "outputs": [
    {
     "data": {
      "text/plain": [
       "array([[ 0.,  0.,  5., ...,  0.,  0.,  0.],\n",
       "       [ 0.,  0.,  0., ..., 10.,  0.,  0.],\n",
       "       [ 0.,  0.,  0., ..., 16.,  9.,  0.],\n",
       "       ...,\n",
       "       [ 0.,  0.,  1., ...,  6.,  0.,  0.],\n",
       "       [ 0.,  0.,  2., ..., 12.,  0.,  0.],\n",
       "       [ 0.,  0., 10., ..., 12.,  1.,  0.]])"
      ]
     },
     "execution_count": 30,
     "metadata": {},
     "output_type": "execute_result"
    }
   ],
   "source": [
    "digits = datasets.load_digits()\n",
    "digits.data"
   ]
  },
  {
   "cell_type": "code",
   "execution_count": 34,
   "id": "aa3ce474-90bb-4fac-a67d-69e8aaba8bab",
   "metadata": {},
   "outputs": [],
   "source": [
    "features = digits.data\n",
    "target = digits.target"
   ]
  },
  {
   "cell_type": "code",
   "execution_count": 46,
   "id": "d05415c5-0d69-400d-9cdb-2e50c84b7c89",
   "metadata": {},
   "outputs": [
    {
     "data": {
      "text/plain": [
       "(1797, 64)"
      ]
     },
     "execution_count": 46,
     "metadata": {},
     "output_type": "execute_result"
    }
   ],
   "source": [
    "features.shape"
   ]
  },
  {
   "cell_type": "markdown",
   "id": "7a2c7846-5730-47ed-ab71-e313cefca0ec",
   "metadata": {},
   "source": [
    "<div style=\"font-size:18px;font-family:Times New Roman\">\n",
    "    Often we do not want to go through the task of loading, transforming and cleaning a real-world dataset before we explore some machine learning algorithm or method.\n",
    "<br> Scikit learn comes with few common datasets that we can quickly load. These datasets are called \"toy\" datasets because they are far smaller and cleaner than a real-world dataset.\n",
    "</div>"
   ]
  },
  {
   "cell_type": "code",
   "execution_count": 60,
   "id": "d583f8d4-ac2e-4a86-9dc4-41935433040f",
   "metadata": {},
   "outputs": [
    {
     "name": "stdout",
     "output_type": "stream",
     "text": [
      ".. _iris_dataset:\n",
      "\n",
      "Iris plants dataset\n",
      "--------------------\n",
      "\n",
      "**Data Set Characteristics:**\n",
      "\n",
      ":Number of Instances: 150 (50 in each of three classes)\n",
      ":Number of Attributes: 4 numeric, predictive attributes and the class\n",
      ":Attribute Information:\n",
      "    - sepal length in cm\n",
      "    - sepal width in cm\n",
      "    - petal length in cm\n",
      "    - petal width in cm\n",
      "    - class:\n",
      "            - Iris-Setosa\n",
      "            - Iris-Versicolour\n",
      "            - Iris-Virginica\n",
      "\n",
      ":Summary Statistics:\n",
      "\n",
      "============== ==== ==== ======= ===== ====================\n",
      "                Min  Max   Mean    SD   Class Correlation\n",
      "============== ==== ==== ======= ===== ====================\n",
      "sepal length:   4.3  7.9   5.84   0.83    0.7826\n",
      "sepal width:    2.0  4.4   3.05   0.43   -0.4194\n",
      "petal length:   1.0  6.9   3.76   1.76    0.9490  (high!)\n",
      "petal width:    0.1  2.5   1.20   0.76    0.9565  (high!)\n",
      "============== ==== ==== ======= ===== ====================\n",
      "\n",
      ":Missing Attribute Values: None\n",
      ":Class Distribution: 33.3% for each of 3 classes.\n",
      ":Creator: R.A. Fisher\n",
      ":Donor: Michael Marshall (MARSHALL%PLU@io.arc.nasa.gov)\n",
      ":Date: July, 1988\n",
      "\n",
      "The famous Iris database, first used by Sir R.A. Fisher. The dataset is taken\n",
      "from Fisher's paper. Note that it's the same as in R, but not as in the UCI\n",
      "Machine Learning Repository, which has two wrong data points.\n",
      "\n",
      "This is perhaps the best known database to be found in the\n",
      "pattern recognition literature.  Fisher's paper is a classic in the field and\n",
      "is referenced frequently to this day.  (See Duda & Hart, for example.)  The\n",
      "data set contains 3 classes of 50 instances each, where each class refers to a\n",
      "type of iris plant.  One class is linearly separable from the other 2; the\n",
      "latter are NOT linearly separable from each other.\n",
      "\n",
      ".. dropdown:: References\n",
      "\n",
      "  - Fisher, R.A. \"The use of multiple measurements in taxonomic problems\"\n",
      "    Annual Eugenics, 7, Part II, 179-188 (1936); also in \"Contributions to\n",
      "    Mathematical Statistics\" (John Wiley, NY, 1950).\n",
      "  - Duda, R.O., & Hart, P.E. (1973) Pattern Classification and Scene Analysis.\n",
      "    (Q327.D83) John Wiley & Sons.  ISBN 0-471-22361-1.  See page 218.\n",
      "  - Dasarathy, B.V. (1980) \"Nosing Around the Neighborhood: A New System\n",
      "    Structure and Classification Rule for Recognition in Partially Exposed\n",
      "    Environments\".  IEEE Transactions on Pattern Analysis and Machine\n",
      "    Intelligence, Vol. PAMI-2, No. 1, 67-71.\n",
      "  - Gates, G.W. (1972) \"The Reduced Nearest Neighbor Rule\".  IEEE Transactions\n",
      "    on Information Theory, May 1972, 431-433.\n",
      "  - See also: 1988 MLC Proceedings, 54-64.  Cheeseman et al\"s AUTOCLASS II\n",
      "    conceptual clustering system finds 3 classes in the data.\n",
      "  - Many, many more ...\n",
      "\n"
     ]
    }
   ],
   "source": [
    "# Contains150 observations on the measurement of Iris flowers.\n",
    "data = datasets.load_iris()\n",
    "print(data.DESCR)"
   ]
  },
  {
   "cell_type": "code",
   "execution_count": 64,
   "id": "5e5cb7d0-5532-48e9-a8eb-26ffae8f916c",
   "metadata": {},
   "outputs": [
    {
     "name": "stdout",
     "output_type": "stream",
     "text": [
      ".. _breast_cancer_dataset:\n",
      "\n",
      "Breast cancer wisconsin (diagnostic) dataset\n",
      "--------------------------------------------\n",
      "\n",
      "**Data Set Characteristics:**\n",
      "\n",
      ":Number of Instances: 569\n",
      "\n",
      ":Number of Attributes: 30 numeric, predictive attributes and the class\n",
      "\n",
      ":Attribute Information:\n",
      "    - radius (mean of distances from center to points on the perimeter)\n",
      "    - texture (standard deviation of gray-scale values)\n",
      "    - perimeter\n",
      "    - area\n",
      "    - smoothness (local variation in radius lengths)\n",
      "    - compactness (perimeter^2 / area - 1.0)\n",
      "    - concavity (severity of concave portions of the contour)\n",
      "    - concave points (number of concave portions of the contour)\n",
      "    - symmetry\n",
      "    - fractal dimension (\"coastline approximation\" - 1)\n",
      "\n",
      "    The mean, standard error, and \"worst\" or largest (mean of the three\n",
      "    worst/largest values) of these features were computed for each image,\n",
      "    resulting in 30 features.  For instance, field 0 is Mean Radius, field\n",
      "    10 is Radius SE, field 20 is Worst Radius.\n",
      "\n",
      "    - class:\n",
      "            - WDBC-Malignant\n",
      "            - WDBC-Benign\n",
      "\n",
      ":Summary Statistics:\n",
      "\n",
      "===================================== ====== ======\n",
      "                                        Min    Max\n",
      "===================================== ====== ======\n",
      "radius (mean):                        6.981  28.11\n",
      "texture (mean):                       9.71   39.28\n",
      "perimeter (mean):                     43.79  188.5\n",
      "area (mean):                          143.5  2501.0\n",
      "smoothness (mean):                    0.053  0.163\n",
      "compactness (mean):                   0.019  0.345\n",
      "concavity (mean):                     0.0    0.427\n",
      "concave points (mean):                0.0    0.201\n",
      "symmetry (mean):                      0.106  0.304\n",
      "fractal dimension (mean):             0.05   0.097\n",
      "radius (standard error):              0.112  2.873\n",
      "texture (standard error):             0.36   4.885\n",
      "perimeter (standard error):           0.757  21.98\n",
      "area (standard error):                6.802  542.2\n",
      "smoothness (standard error):          0.002  0.031\n",
      "compactness (standard error):         0.002  0.135\n",
      "concavity (standard error):           0.0    0.396\n",
      "concave points (standard error):      0.0    0.053\n",
      "symmetry (standard error):            0.008  0.079\n",
      "fractal dimension (standard error):   0.001  0.03\n",
      "radius (worst):                       7.93   36.04\n",
      "texture (worst):                      12.02  49.54\n",
      "perimeter (worst):                    50.41  251.2\n",
      "area (worst):                         185.2  4254.0\n",
      "smoothness (worst):                   0.071  0.223\n",
      "compactness (worst):                  0.027  1.058\n",
      "concavity (worst):                    0.0    1.252\n",
      "concave points (worst):               0.0    0.291\n",
      "symmetry (worst):                     0.156  0.664\n",
      "fractal dimension (worst):            0.055  0.208\n",
      "===================================== ====== ======\n",
      "\n",
      ":Missing Attribute Values: None\n",
      "\n",
      ":Class Distribution: 212 - Malignant, 357 - Benign\n",
      "\n",
      ":Creator:  Dr. William H. Wolberg, W. Nick Street, Olvi L. Mangasarian\n",
      "\n",
      ":Donor: Nick Street\n",
      "\n",
      ":Date: November, 1995\n",
      "\n",
      "This is a copy of UCI ML Breast Cancer Wisconsin (Diagnostic) datasets.\n",
      "https://goo.gl/U2Uwz2\n",
      "\n",
      "Features are computed from a digitized image of a fine needle\n",
      "aspirate (FNA) of a breast mass.  They describe\n",
      "characteristics of the cell nuclei present in the image.\n",
      "\n",
      "Separating plane described above was obtained using\n",
      "Multisurface Method-Tree (MSM-T) [K. P. Bennett, \"Decision Tree\n",
      "Construction Via Linear Programming.\" Proceedings of the 4th\n",
      "Midwest Artificial Intelligence and Cognitive Science Society,\n",
      "pp. 97-101, 1992], a classification method which uses linear\n",
      "programming to construct a decision tree.  Relevant features\n",
      "were selected using an exhaustive search in the space of 1-4\n",
      "features and 1-3 separating planes.\n",
      "\n",
      "The actual linear program used to obtain the separating plane\n",
      "in the 3-dimensional space is that described in:\n",
      "[K. P. Bennett and O. L. Mangasarian: \"Robust Linear\n",
      "Programming Discrimination of Two Linearly Inseparable Sets\",\n",
      "Optimization Methods and Software 1, 1992, 23-34].\n",
      "\n",
      "This database is also available through the UW CS ftp server:\n",
      "\n",
      "ftp ftp.cs.wisc.edu\n",
      "cd math-prog/cpo-dataset/machine-learn/WDBC/\n",
      "\n",
      ".. dropdown:: References\n",
      "\n",
      "  - W.N. Street, W.H. Wolberg and O.L. Mangasarian. Nuclear feature extraction\n",
      "    for breast tumor diagnosis. IS&T/SPIE 1993 International Symposium on\n",
      "    Electronic Imaging: Science and Technology, volume 1905, pages 861-870,\n",
      "    San Jose, CA, 1993.\n",
      "  - O.L. Mangasarian, W.N. Street and W.H. Wolberg. Breast cancer diagnosis and\n",
      "    prognosis via linear programming. Operations Research, 43(4), pages 570-577,\n",
      "    July-August 1995.\n",
      "  - W.H. Wolberg, W.N. Street, and O.L. Mangasarian. Machine learning techniques\n",
      "    to diagnose breast cancer from fine-needle aspirates. Cancer Letters 77 (1994)\n",
      "    163-171.\n",
      "\n"
     ]
    }
   ],
   "source": [
    "# Contains 569 observations of the breast cancer wisconsin dataset\n",
    "data = datasets.load_breast_cancer()\n",
    "print(data.DESCR)"
   ]
  },
  {
   "cell_type": "markdown",
   "id": "01624c08-3aee-46a3-ab7d-2ffd9e5f9f9d",
   "metadata": {},
   "source": [
    "<h2>Creating a Simulated Dataset</h2>\n",
    "<div style=\"font-size:18px;font-family:Times New Roman\">\n",
    "    A simulated dataset is a synthetic dataset that mimics the characteristics of real-world data, but is not identical to it. scikit-learn offers many methods for creating a simulated data like $make$_$regression$, $make$_$classification$, etc.\n",
    "</div>"
   ]
  },
  {
   "cell_type": "code",
   "execution_count": 88,
   "id": "5acd80ae-1eaa-42d9-a6c4-2e84caa4c345",
   "metadata": {},
   "outputs": [
    {
     "name": "stdout",
     "output_type": "stream",
     "text": [
      "Feature Matrix\n",
      " [[ 1.29322588 -0.61736206 -0.11044703]\n",
      " [-2.793085    0.36633201  1.93752881]\n",
      " [ 0.80186103 -0.18656977  0.0465673 ]\n",
      " [ 0.12910158  0.50274088  1.6169496 ]\n",
      " [-0.69166075 -0.6871727  -0.39675353]\n",
      " [-0.75439794  0.51292982  1.25286816]\n",
      " [ 1.90465871  0.6590498   1.1110567 ]\n",
      " [ 0.20183018  1.79215821  0.66102029]\n",
      " [ 0.04221375 -1.10061918  0.58281521]\n",
      " [-1.39649634 -0.50446586 -1.44411381]]\n",
      "\n",
      "Target Vector\n",
      " [ -10.37865986   25.5124503    19.67705609  149.50205427 -121.65210879\n",
      "   90.29412996  214.01379719  224.74157328  -73.17331138 -195.62776209]\n",
      "\n",
      "Coefficients\n",
      " [44.19042807 98.97517077 58.15774073]\n"
     ]
    }
   ],
   "source": [
    "from sklearn.datasets import make_regression\n",
    "# Generate feature matrix, target vector, and true coefficients.\n",
    "features, target, coeff = make_regression(\n",
    "    n_samples = 100,\n",
    "    n_features = 3,\n",
    "    n_informative = 3,\n",
    "    n_targets = 1,\n",
    "    noise = 0,\n",
    "    coef = True,\n",
    "    random_state = 1\n",
    ")\n",
    "\n",
    "print(\"Feature Matrix\\n\", features[:10])\n",
    "print(\"\\nTarget Vector\\n\", target[:10])\n",
    "print(\"\\nCoefficients\\n\",coeff)"
   ]
  },
  {
   "cell_type": "code",
   "execution_count": 103,
   "id": "3498ea6b-1fe0-4192-bd28-940789bc0bab",
   "metadata": {},
   "outputs": [
    {
     "name": "stdout",
     "output_type": "stream",
     "text": [
      "Feature Matrix\n",
      " [[-1.68896656  0.89599494  0.67237642 -2.70999375  1.95923092]\n",
      " [-1.26592565  1.0459668   1.45523297 -1.15756869  1.68057013]\n",
      " [ 0.72423576 -1.73604562 -1.47289046 -1.56354395  0.25095451]\n",
      " [-1.11266501  2.25389089  0.99459116 -0.50230143  0.77125247]\n",
      " [-0.20047205  2.17738097 -0.04779382 -1.65421331  1.2097993 ]\n",
      " [-0.05550873 -0.22750503  1.21318284 -0.25051005  1.36870317]\n",
      " [-0.56739115 -0.58708218 -0.91208849  2.31002732 -3.12518204]\n",
      " [-2.7537501   0.86715273  1.92664006  1.16298451 -0.60800512]\n",
      " [-2.04370842  0.81712941 -0.97182311 -1.13626834 -1.15739265]\n",
      " [-1.58947966 -0.13889593  0.26903584 -1.35830703  0.49989717]]\n",
      "\n",
      "Target Vector\n",
      " [1 1 2 1 1 1 2 0 2 1]\n"
     ]
    }
   ],
   "source": [
    "# Datasets designed to work well with the Classification Techniques.\n",
    "\n",
    "from sklearn.datasets import make_classification\n",
    "# Generate feature matrix, target vector, and true coefficients.\n",
    "features, target = make_classification(\n",
    "    n_samples = 100,\n",
    "    n_features = 5,\n",
    "    n_informative = 3,\n",
    "    n_redundant = 1,\n",
    "    n_classes = 3,\n",
    "    weights = [.25,.45,.30],\n",
    "    random_state = 1\n",
    ")\n",
    "print(\"Feature Matrix\\n\", features[:10])\n",
    "print(\"\\nTarget Vector\\n\", target[:10])"
   ]
  },
  {
   "cell_type": "code",
   "execution_count": 125,
   "id": "38133526-2da0-455a-ae4d-d502cbe2c85f",
   "metadata": {},
   "outputs": [
    {
     "name": "stdout",
     "output_type": "stream",
     "text": [
      "Feature Matrix\n",
      " [[-1.81266191  4.82047719]\n",
      " [-6.11255283 -7.59769976]\n",
      " [-6.22708323 -2.62806042]\n",
      " [-7.22813193 -8.824566  ]\n",
      " [-6.72484726 -8.3131289 ]\n",
      " [-6.26811943 -3.43613226]\n",
      " [-2.0537191   0.54199777]\n",
      " [-5.36952832 -3.74164892]\n",
      " [-6.73437204 -7.257149  ]\n",
      " [-0.82965882  4.77751195]]\n",
      "\n",
      "Target Vector\n",
      " [0 2 3 2 2 3 4 3 2 0]\n"
     ]
    }
   ],
   "source": [
    "# Datasets designed to work well with the Clustering Techniques.\n",
    "\n",
    "from sklearn.datasets import make_blobs\n",
    "# Generate feature matrix, target vector, and true coefficients.\n",
    "features, target = make_blobs(\n",
    "    n_samples = 200,\n",
    "    n_features = 2,\n",
    "    centers = 5,\n",
    "    cluster_std = 0.5,\n",
    "    shuffle = True,\n",
    "    random_state = 1\n",
    ")\n",
    "print(\"Feature Matrix\\n\", features[:10])\n",
    "print(\"\\nTarget Vector\\n\", target[:10])"
   ]
  },
  {
   "cell_type": "code",
   "execution_count": 127,
   "id": "f5d6f855-f0d6-4a46-984a-a4b50129ee1c",
   "metadata": {},
   "outputs": [
    {
     "data": {
      "image/png": "[encoded data removed]",
      "text/plain": [
       "<Figure size 640x480 with 1 Axes>"
      ]
     },
     "metadata": {},
     "output_type": "display_data"
    }
   ],
   "source": [
    "# Using matplotlib, we can visualize the clusters generated by make_blobs.\n",
    "plt.scatter(features[:,0], features[:,1], c=target)\n",
    "plt.show()\n",
    "plt.tight_layout()"
   ]
  },
  {
   "cell_type": "markdown",
   "id": "8dedf920-4dd2-4eea-b38c-a4952f58dcaf",
   "metadata": {},
   "source": [
    "<h2>Loading a CSV file</h2>\n",
    "<div style=\"font-size:18px;font-family:Times New Roman\">\n",
    "    Importing a comma-seperated value (CSV) file. \n",
    "</div>"
   ]
  },
  {
   "cell_type": "code",
   "execution_count": 140,
   "id": "37bf5b8e-9a9f-4d97-8c65-da763438a5ae",
   "metadata": {},
   "outputs": [
    {
     "data": {
      "text/html": [
       "<div>\n",
       "<style scoped>\n",
       "    .dataframe tbody tr th:only-of-type {\n",
       "        vertical-align: middle;\n",
       "    }\n",
       "\n",
       "    .dataframe tbody tr th {\n",
       "        vertical-align: top;\n",
       "    }\n",
       "\n",
       "    .dataframe thead th {\n",
       "        text-align: right;\n",
       "    }\n",
       "</style>\n",
       "<table border=\"1\" class=\"dataframe\">\n",
       "  <thead>\n",
       "    <tr style=\"text-align: right;\">\n",
       "      <th></th>\n",
       "      <th>integer</th>\n",
       "      <th>datetime</th>\n",
       "      <th>category</th>\n",
       "    </tr>\n",
       "  </thead>\n",
       "  <tbody>\n",
       "    <tr>\n",
       "      <th>0</th>\n",
       "      <td>5</td>\n",
       "      <td>2015-01-01 00:00:00</td>\n",
       "      <td>0</td>\n",
       "    </tr>\n",
       "    <tr>\n",
       "      <th>1</th>\n",
       "      <td>5</td>\n",
       "      <td>2015-01-01 00:00:01</td>\n",
       "      <td>0</td>\n",
       "    </tr>\n",
       "    <tr>\n",
       "      <th>2</th>\n",
       "      <td>9</td>\n",
       "      <td>2015-01-01 00:00:02</td>\n",
       "      <td>0</td>\n",
       "    </tr>\n",
       "    <tr>\n",
       "      <th>3</th>\n",
       "      <td>6</td>\n",
       "      <td>2015-01-01 00:00:03</td>\n",
       "      <td>0</td>\n",
       "    </tr>\n",
       "    <tr>\n",
       "      <th>4</th>\n",
       "      <td>6</td>\n",
       "      <td>2015-01-01 00:00:04</td>\n",
       "      <td>0</td>\n",
       "    </tr>\n",
       "  </tbody>\n",
       "</table>\n",
       "</div>"
      ],
      "text/plain": [
       "   integer             datetime  category\n",
       "0        5  2015-01-01 00:00:00         0\n",
       "1        5  2015-01-01 00:00:01         0\n",
       "2        9  2015-01-01 00:00:02         0\n",
       "3        6  2015-01-01 00:00:03         0\n",
       "4        6  2015-01-01 00:00:04         0"
      ]
     },
     "execution_count": 140,
     "metadata": {},
     "output_type": "execute_result"
    }
   ],
   "source": [
    "url = 'https://raw.githubusercontent.com/chrisalbon/sim_data/master/data.csv'\n",
    "df = pd.read_csv(url)\n",
    "df.head()"
   ]
  },
  {
   "cell_type": "markdown",
   "id": "b104005d-4e43-40dc-8c99-3171382b9db7",
   "metadata": {},
   "source": [
    "<h2>Loading a Excel file</h2>\n",
    "<div style=\"font-size:18px;font-family:Times New Roman\">\n",
    "    Importing an Excel spreadsheet.\n",
    "</div>"
   ]
  },
  {
   "cell_type": "code",
   "execution_count": 146,
   "id": "e549d625-46b7-4133-9645-393fb55b5860",
   "metadata": {},
   "outputs": [
    {
     "data": {
      "text/html": [
       "<div>\n",
       "<style scoped>\n",
       "    .dataframe tbody tr th:only-of-type {\n",
       "        vertical-align: middle;\n",
       "    }\n",
       "\n",
       "    .dataframe tbody tr th {\n",
       "        vertical-align: top;\n",
       "    }\n",
       "\n",
       "    .dataframe thead th {\n",
       "        text-align: right;\n",
       "    }\n",
       "</style>\n",
       "<table border=\"1\" class=\"dataframe\">\n",
       "  <thead>\n",
       "    <tr style=\"text-align: right;\">\n",
       "      <th></th>\n",
       "      <th>integer</th>\n",
       "      <th>datetime</th>\n",
       "      <th>category</th>\n",
       "    </tr>\n",
       "  </thead>\n",
       "  <tbody>\n",
       "    <tr>\n",
       "      <th>0</th>\n",
       "      <td>5</td>\n",
       "      <td>2015-01-01 00:00:00</td>\n",
       "      <td>0</td>\n",
       "    </tr>\n",
       "    <tr>\n",
       "      <th>1</th>\n",
       "      <td>5</td>\n",
       "      <td>2015-01-01 00:00:01</td>\n",
       "      <td>0</td>\n",
       "    </tr>\n",
       "    <tr>\n",
       "      <th>2</th>\n",
       "      <td>9</td>\n",
       "      <td>2015-01-01 00:00:02</td>\n",
       "      <td>0</td>\n",
       "    </tr>\n",
       "    <tr>\n",
       "      <th>3</th>\n",
       "      <td>6</td>\n",
       "      <td>2015-01-01 00:00:03</td>\n",
       "      <td>0</td>\n",
       "    </tr>\n",
       "    <tr>\n",
       "      <th>4</th>\n",
       "      <td>6</td>\n",
       "      <td>2015-01-01 00:00:04</td>\n",
       "      <td>0</td>\n",
       "    </tr>\n",
       "  </tbody>\n",
       "</table>\n",
       "</div>"
      ],
      "text/plain": [
       "   integer            datetime  category\n",
       "0        5 2015-01-01 00:00:00         0\n",
       "1        5 2015-01-01 00:00:01         0\n",
       "2        9 2015-01-01 00:00:02         0\n",
       "3        6 2015-01-01 00:00:03         0\n",
       "4        6 2015-01-01 00:00:04         0"
      ]
     },
     "execution_count": 146,
     "metadata": {},
     "output_type": "execute_result"
    }
   ],
   "source": [
    "url = 'https://raw.githubusercontent.com/chrisalbon/sim_data/master/data.xlsx'\n",
    "df = pd.read_excel(url, sheet_name=0, header=0)\n",
    "df.head()"
   ]
  },
  {
   "cell_type": "markdown",
   "id": "dbcec1c3-55f8-4036-a917-5345e3054142",
   "metadata": {},
   "source": [
    "<h2>Loading a JSON file</h2>\n",
    "<div style=\"font-size:18px;font-family:Times New Roman\">\n",
    "    Importing a JSON value file. \n",
    "</div>"
   ]
  },
  {
   "cell_type": "code",
   "execution_count": 153,
   "id": "78c85db7-09f7-4d6d-9164-47babd3c766d",
   "metadata": {},
   "outputs": [
    {
     "data": {
      "text/html": [
       "<div>\n",
       "<style scoped>\n",
       "    .dataframe tbody tr th:only-of-type {\n",
       "        vertical-align: middle;\n",
       "    }\n",
       "\n",
       "    .dataframe tbody tr th {\n",
       "        vertical-align: top;\n",
       "    }\n",
       "\n",
       "    .dataframe thead th {\n",
       "        text-align: right;\n",
       "    }\n",
       "</style>\n",
       "<table border=\"1\" class=\"dataframe\">\n",
       "  <thead>\n",
       "    <tr style=\"text-align: right;\">\n",
       "      <th></th>\n",
       "      <th>integer</th>\n",
       "      <th>datetime</th>\n",
       "      <th>category</th>\n",
       "    </tr>\n",
       "  </thead>\n",
       "  <tbody>\n",
       "    <tr>\n",
       "      <th>0</th>\n",
       "      <td>5</td>\n",
       "      <td>2015-01-01 00:00:00</td>\n",
       "      <td>0</td>\n",
       "    </tr>\n",
       "    <tr>\n",
       "      <th>1</th>\n",
       "      <td>5</td>\n",
       "      <td>2015-01-01 00:00:01</td>\n",
       "      <td>0</td>\n",
       "    </tr>\n",
       "    <tr>\n",
       "      <th>2</th>\n",
       "      <td>9</td>\n",
       "      <td>2015-01-01 00:00:02</td>\n",
       "      <td>0</td>\n",
       "    </tr>\n",
       "    <tr>\n",
       "      <th>3</th>\n",
       "      <td>6</td>\n",
       "      <td>2015-01-01 00:00:03</td>\n",
       "      <td>0</td>\n",
       "    </tr>\n",
       "    <tr>\n",
       "      <th>4</th>\n",
       "      <td>6</td>\n",
       "      <td>2015-01-01 00:00:04</td>\n",
       "      <td>0</td>\n",
       "    </tr>\n",
       "  </tbody>\n",
       "</table>\n",
       "</div>"
      ],
      "text/plain": [
       "   integer            datetime  category\n",
       "0        5 2015-01-01 00:00:00         0\n",
       "1        5 2015-01-01 00:00:01         0\n",
       "2        9 2015-01-01 00:00:02         0\n",
       "3        6 2015-01-01 00:00:03         0\n",
       "4        6 2015-01-01 00:00:04         0"
      ]
     },
     "execution_count": 153,
     "metadata": {},
     "output_type": "execute_result"
    }
   ],
   "source": [
    "url = 'https://raw.githubusercontent.com/chrisalbon/sim_data/master/data.json'\n",
    "df = pd.read_json(url, orient=\"columns\")\n",
    "df.head()"
   ]
  },
  {
   "cell_type": "markdown",
   "id": "e2d4d430-614d-4143-9cf4-6e921c251811",
   "metadata": {},
   "source": [
    "<h2>Loading a Parquet file</h2>\n",
    "<div style=\"font-size:18px;font-family:Times New Roman\">\n",
    "    Importing a parquet file. \n",
    "</div>"
   ]
  },
  {
   "cell_type": "code",
   "execution_count": 162,
   "id": "d0e99d29-4141-40c6-b4d2-595244e60373",
   "metadata": {},
   "outputs": [
    {
     "data": {
      "text/html": [
       "<div>\n",
       "<style scoped>\n",
       "    .dataframe tbody tr th:only-of-type {\n",
       "        vertical-align: middle;\n",
       "    }\n",
       "\n",
       "    .dataframe tbody tr th {\n",
       "        vertical-align: top;\n",
       "    }\n",
       "\n",
       "    .dataframe thead th {\n",
       "        text-align: right;\n",
       "    }\n",
       "</style>\n",
       "<table border=\"1\" class=\"dataframe\">\n",
       "  <thead>\n",
       "    <tr style=\"text-align: right;\">\n",
       "      <th></th>\n",
       "      <th>integer</th>\n",
       "      <th>datetime</th>\n",
       "      <th>category</th>\n",
       "    </tr>\n",
       "  </thead>\n",
       "  <tbody>\n",
       "    <tr>\n",
       "      <th>0</th>\n",
       "      <td>5</td>\n",
       "      <td>2015-01-01 00:00:00</td>\n",
       "      <td>0</td>\n",
       "    </tr>\n",
       "    <tr>\n",
       "      <th>1</th>\n",
       "      <td>5</td>\n",
       "      <td>2015-01-01 00:00:01</td>\n",
       "      <td>0</td>\n",
       "    </tr>\n",
       "    <tr>\n",
       "      <th>2</th>\n",
       "      <td>9</td>\n",
       "      <td>2015-01-01 00:00:02</td>\n",
       "      <td>0</td>\n",
       "    </tr>\n",
       "    <tr>\n",
       "      <th>3</th>\n",
       "      <td>6</td>\n",
       "      <td>2015-01-01 00:00:03</td>\n",
       "      <td>0</td>\n",
       "    </tr>\n",
       "    <tr>\n",
       "      <th>4</th>\n",
       "      <td>6</td>\n",
       "      <td>2015-01-01 00:00:04</td>\n",
       "      <td>0</td>\n",
       "    </tr>\n",
       "  </tbody>\n",
       "</table>\n",
       "</div>"
      ],
      "text/plain": [
       "   integer             datetime  category\n",
       "0        5  2015-01-01 00:00:00         0\n",
       "1        5  2015-01-01 00:00:01         0\n",
       "2        9  2015-01-01 00:00:02         0\n",
       "3        6  2015-01-01 00:00:03         0\n",
       "4        6  2015-01-01 00:00:04         0"
      ]
     },
     "execution_count": 162,
     "metadata": {},
     "output_type": "execute_result"
    }
   ],
   "source": [
    "url = 'https://machine-learning-python-cookbook.s3.amazonaws.com/data.parquet'\n",
    "df = pd.read_parquet(url)\n",
    "df.head()"
   ]
  },
  {
   "cell_type": "markdown",
   "id": "dd0c66e8-7c26-4230-a12d-5e2bf1b41491",
   "metadata": {},
   "source": [
    "<h2>Loading a Avro file</h2>\n",
    "<div style=\"font-size:18px;font-family:Times New Roman\">\n",
    "    Importing a avro file. \n",
    "</div>"
   ]
  },
  {
   "cell_type": "code",
   "execution_count": 11,
   "id": "76b94a80-542c-4fef-80d9-ce8b936a9720",
   "metadata": {},
   "outputs": [
    {
     "data": {
      "text/html": [
       "<div>\n",
       "<style scoped>\n",
       "    .dataframe tbody tr th:only-of-type {\n",
       "        vertical-align: middle;\n",
       "    }\n",
       "\n",
       "    .dataframe tbody tr th {\n",
       "        vertical-align: top;\n",
       "    }\n",
       "\n",
       "    .dataframe thead th {\n",
       "        text-align: right;\n",
       "    }\n",
       "</style>\n",
       "<table border=\"1\" class=\"dataframe\">\n",
       "  <thead>\n",
       "    <tr style=\"text-align: right;\">\n",
       "      <th></th>\n",
       "      <th>integer</th>\n",
       "      <th>datetime</th>\n",
       "      <th>category</th>\n",
       "    </tr>\n",
       "  </thead>\n",
       "  <tbody>\n",
       "    <tr>\n",
       "      <th>0</th>\n",
       "      <td>5</td>\n",
       "      <td>2015-01-01 00:00:00</td>\n",
       "      <td>0</td>\n",
       "    </tr>\n",
       "    <tr>\n",
       "      <th>1</th>\n",
       "      <td>5</td>\n",
       "      <td>2015-01-01 00:00:01</td>\n",
       "      <td>0</td>\n",
       "    </tr>\n",
       "    <tr>\n",
       "      <th>2</th>\n",
       "      <td>9</td>\n",
       "      <td>2015-01-01 00:00:02</td>\n",
       "      <td>0</td>\n",
       "    </tr>\n",
       "    <tr>\n",
       "      <th>3</th>\n",
       "      <td>6</td>\n",
       "      <td>2015-01-01 00:00:03</td>\n",
       "      <td>0</td>\n",
       "    </tr>\n",
       "    <tr>\n",
       "      <th>4</th>\n",
       "      <td>6</td>\n",
       "      <td>2015-01-01 00:00:04</td>\n",
       "      <td>0</td>\n",
       "    </tr>\n",
       "  </tbody>\n",
       "</table>\n",
       "</div>"
      ],
      "text/plain": [
       "   integer             datetime  category\n",
       "0        5  2015-01-01 00:00:00         0\n",
       "1        5  2015-01-01 00:00:01         0\n",
       "2        9  2015-01-01 00:00:02         0\n",
       "3        6  2015-01-01 00:00:03         0\n",
       "4        6  2015-01-01 00:00:04         0"
      ]
     },
     "execution_count": 11,
     "metadata": {},
     "output_type": "execute_result"
    }
   ],
   "source": [
    "url = 'https://machine-learning-python-cookbook.s3.amazonaws.com/data.avro'\n",
    "\n",
    "response = requests.get(url)\n",
    "if response.status_code == 200:\n",
    "    with open(\"data.avro\",\"wb\") as f:\n",
    "        f.write(response.content)\n",
    "else:\n",
    "    print(f\"Failed to download the file. HTTP Status Code: {response.status_code}\")\n",
    "\n",
    "df = pdx.read_avro(\"data.avro\")\n",
    "df.head()"
   ]
  },
  {
   "cell_type": "markdown",
   "id": "ad1c7d79-0508-4b9f-9a2c-452512ae9ad8",
   "metadata": {},
   "source": [
    "<h2>Querying a SQLite Database</h2>\n",
    "<div style=\"font-size:18px;font-family:Times New Roman\">\n",
    "    Loading the data from the database using the Structured Query Language (SQL).\n",
    "</div>"
   ]
  },
  {
   "cell_type": "code",
   "execution_count": 22,
   "id": "f6120021-994d-4192-8c36-ac693572300c",
   "metadata": {},
   "outputs": [],
   "source": [
    "database_connection = create_engine(\"sqlite:///sample.db\")\n",
    "data = pd.read_sql_query(\"SELECT  * FROM data\", database_connection)"
   ]
  },
  {
   "cell_type": "markdown",
   "id": "b5006009-906d-4f60-8154-0a6841e65960",
   "metadata": {},
   "source": [
    "<h2>Loading the Data from the Google Sheet</h2>\n",
    "<div style=\"font-size:18px;font-family:Times New Roman\">\n",
    "    You need to read data in directly from a Google Sheet.\n",
    "</div>"
   ]
  },
  {
   "cell_type": "code",
   "execution_count": 28,
   "id": "99186da5-9fd9-490a-ad28-4a6f4fb74575",
   "metadata": {},
   "outputs": [],
   "source": [
    "url = \"https://docs.google.com/spreadsheets/d/1ehC9otcAuitqnmWksqt1mOrTRCL38dv0K9UjhwzTOA/export?format=csv\"\n",
    "data = pd.read_csv(url)"
   ]
  },
  {
   "cell_type": "markdown",
   "id": "c4f68188-9b45-4744-99f5-8768aa9a2fed",
   "metadata": {},
   "source": [
    "<h2>Loading Unstructured Data</h2>\n",
    "<div style=\"font-size:18px;font-family:Times New Roman\">\n",
    "    Loading the unstructured data like text or images.\n",
    "</div>"
   ]
  },
  {
   "cell_type": "code",
   "execution_count": 34,
   "id": "41c9427a-008f-4bdd-8243-33177ec5824e",
   "metadata": {},
   "outputs": [
    {
     "name": "stdout",
     "output_type": "stream",
     "text": [
      "Hello there!\n"
     ]
    }
   ],
   "source": [
    "url = \"https://machine-learning-python-cookbook.s3.amazonaws.com/text.txt\"\n",
    "response = requests.get(url)\n",
    "if response.status_code == 200:\n",
    "    with open(\"text.txt\",\"wb\") as f:\n",
    "        f.write(response.content)\n",
    "\n",
    "with open(\"text.txt\", \"r\") as f:\n",
    "    text = f.read()\n",
    "\n",
    "print(text)"
   ]
  },
  {
   "cell_type": "markdown",
   "id": "5e1b5fa1-a8d6-47e4-b7f8-847b1c29d34a",
   "metadata": {},
   "source": [
    "## Done with Day 2 ;)"
   ]
  },
  {
   "cell_type": "code",
   "execution_count": null,
   "id": "f25f0289-ea73-4d8f-9c80-5ab44393a9e1",
   "metadata": {},
   "outputs": [],
   "source": []
  }
 ],
 "metadata": {
  "kernelspec": {
   "display_name": "Python 3 (ipykernel)",
   "language": "python",
   "name": "python3"
  },
  "language_info": {
   "codemirror_mode": {
    "name": "ipython",
    "version": 3
   },
   "file_extension": ".py",
   "mimetype": "text/x-python",
   "name": "python",
   "nbconvert_exporter": "python",
   "pygments_lexer": "ipython3",
   "version": "3.12.7"
  }
 },
 "nbformat": 4,
 "nbformat_minor": 5
}
