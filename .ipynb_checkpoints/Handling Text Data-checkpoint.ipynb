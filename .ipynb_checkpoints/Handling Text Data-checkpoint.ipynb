{
 "cells": [
  {
   "cell_type": "markdown",
   "id": "4a9f0a18-bf01-45de-a5ad-df9f26f204a6",
   "metadata": {},
   "source": [
    "<h2>Introduction</h2>\n",
    "<div style=\"font-size:18px;font-family:Calibri\">\n",
    "    Today, we'll cover strategies for transforming text into information-rich features, and use some out-of-the-box features that have become increasingly ubiquitous in tasks that involve Natural Language Processing.\n",
    "</div>"
   ]
  },
  {
   "cell_type": "code",
   "execution_count": 170,
   "id": "ccded01a-b806-4b58-ab04-d228b46f7a1c",
   "metadata": {},
   "outputs": [],
   "source": [
    "# Importing the required libraries\n",
    "import re\n",
    "from bs4 import BeautifulSoup\n",
    "import unicodedata\n",
    "import sys"
   ]
  },
  {
   "cell_type": "code",
   "execution_count": 172,
   "id": "cc6e72b8-8b4e-4a4e-9f41-3b6412bd9ae0",
   "metadata": {},
   "outputs": [
    {
     "data": {
      "text/plain": [
       "['Interrobang. By Aishwarya Henriette',\n",
       " 'Parking And Going. By Karl Gautier',\n",
       " 'Today Is The night. By Jarek Prakash']"
      ]
     },
     "execution_count": 172,
     "metadata": {},
     "output_type": "execute_result"
    }
   ],
   "source": [
    "txt = [\"   Interrobang. By Aishwarya Henriette     \",\n",
    " \"Parking And Going. By Karl Gautier\",\n",
    " \"    Today Is The night. By Jarek Prakash   \"]\n",
    "\n",
    "txt = [sttr.strip() for sttr in txt]\n",
    "txt"
   ]
  },
  {
   "cell_type": "code",
   "execution_count": 14,
   "id": "21fdc26c-b53f-4300-958b-1a958fa210b6",
   "metadata": {},
   "outputs": [
    {
     "data": {
      "text/plain": [
       "['Interrobang By Aishwarya Henriette',\n",
       " 'Parking And Going By Karl Gautier',\n",
       " 'Today Is The night By Jarek Prakash']"
      ]
     },
     "execution_count": 14,
     "metadata": {},
     "output_type": "execute_result"
    }
   ],
   "source": [
    "txt = [sttr.replace('.','') for sttr in txt]\n",
    "txt"
   ]
  },
  {
   "cell_type": "code",
   "execution_count": 20,
   "id": "a4b9a991-0f20-493e-b876-9f2accba0b21",
   "metadata": {},
   "outputs": [
    {
     "data": {
      "text/plain": [
       "['INTERROBANG BY AISHWARYA HENRIETTE',\n",
       " 'PARKING AND GOING BY KARL GAUTIER',\n",
       " 'TODAY IS THE NIGHT BY JAREK PRAKASH']"
      ]
     },
     "execution_count": 20,
     "metadata": {},
     "output_type": "execute_result"
    }
   ],
   "source": [
    "def capitalizer(strr: str) -> str:\n",
    "    return strr.upper()\n",
    "\n",
    "txt = [capitalizer(strr) for strr in txt]\n",
    "txt"
   ]
  },
  {
   "cell_type": "code",
   "execution_count": 24,
   "id": "f5f1dd3a-3aeb-4406-88bd-431cf180a9ef",
   "metadata": {},
   "outputs": [
    {
     "data": {
      "text/plain": [
       "['XXXXXXXXXXX XX XXXXXXXXX XXXXXXXXX',\n",
       " 'XXXXXXX XXX XXXXX XX XXXX XXXXXXX',\n",
       " 'XXXXX XX XXX XXXXX XX XXXXX XXXXXXX']"
      ]
     },
     "execution_count": 24,
     "metadata": {},
     "output_type": "execute_result"
    }
   ],
   "source": [
    "def replace_letter(strr : str) -> str:\n",
    "    return re.sub(r\"[a-zA-Z]\", \"X\", strr)\n",
    "\n",
    "[replace_letter(strr) for strr in txt]"
   ]
  },
  {
   "cell_type": "code",
   "execution_count": 44,
   "id": "bee4b795-4535-4f9b-813b-2a1ade6f7595",
   "metadata": {},
   "outputs": [],
   "source": [
    "s = \"machine learning in python cookbook\""
   ]
  },
  {
   "cell_type": "code",
   "execution_count": 28,
   "id": "abbd7d5c-6df7-47d0-b429-9f85e02b8e26",
   "metadata": {},
   "outputs": [
    {
     "data": {
      "text/plain": [
       "5"
      ]
     },
     "execution_count": 28,
     "metadata": {},
     "output_type": "execute_result"
    }
   ],
   "source": [
    "s.find(\"n\")"
   ]
  },
  {
   "cell_type": "code",
   "execution_count": 32,
   "id": "24c123a2-0ac3-40b3-9c12-ac377b431a36",
   "metadata": {},
   "outputs": [
    {
     "data": {
      "text/plain": [
       "True"
      ]
     },
     "execution_count": 32,
     "metadata": {},
     "output_type": "execute_result"
    }
   ],
   "source": [
    "s.startswith('m')"
   ]
  },
  {
   "cell_type": "code",
   "execution_count": 34,
   "id": "fe81d7a8-9397-49d8-93f2-f9496051a99b",
   "metadata": {},
   "outputs": [
    {
     "data": {
      "text/plain": [
       "True"
      ]
     },
     "execution_count": 34,
     "metadata": {},
     "output_type": "execute_result"
    }
   ],
   "source": [
    "s.endswith('k')"
   ]
  },
  {
   "cell_type": "code",
   "execution_count": 36,
   "id": "df455681-943c-4378-8126-bd4d87e1fcc7",
   "metadata": {},
   "outputs": [
    {
     "data": {
      "text/plain": [
       "False"
      ]
     },
     "execution_count": 36,
     "metadata": {},
     "output_type": "execute_result"
    }
   ],
   "source": [
    "s.endswith(\"python\")"
   ]
  },
  {
   "cell_type": "code",
   "execution_count": 42,
   "id": "7bb19ba0-1d80-4ef5-8465-a9f8d6d75279",
   "metadata": {},
   "outputs": [
    {
     "data": {
      "text/plain": [
       "False"
      ]
     },
     "execution_count": 42,
     "metadata": {},
     "output_type": "execute_result"
    }
   ],
   "source": [
    "s.isalnum()"
   ]
  },
  {
   "cell_type": "code",
   "execution_count": 46,
   "id": "104221e0-c07b-4122-ba51-a06f4ff17ace",
   "metadata": {},
   "outputs": [
    {
     "data": {
      "text/plain": [
       "False"
      ]
     },
     "execution_count": 46,
     "metadata": {},
     "output_type": "execute_result"
    }
   ],
   "source": [
    "s.isalpha()"
   ]
  },
  {
   "cell_type": "code",
   "execution_count": 61,
   "id": "ccf16369-9e70-467a-9038-7cb88f09f9de",
   "metadata": {},
   "outputs": [
    {
     "data": {
      "text/plain": [
       "b'machine learning in python cookbook'"
      ]
     },
     "execution_count": 61,
     "metadata": {},
     "output_type": "execute_result"
    }
   ],
   "source": [
    "x = s.encode(\"utf-8\")\n",
    "x"
   ]
  },
  {
   "cell_type": "code",
   "execution_count": 63,
   "id": "5cd43268-7b3b-40b0-a0c3-b8f759c03f53",
   "metadata": {},
   "outputs": [
    {
     "data": {
      "text/plain": [
       "'machine learning in python cookbook'"
      ]
     },
     "execution_count": 63,
     "metadata": {},
     "output_type": "execute_result"
    }
   ],
   "source": [
    "x.decode(\"utf-8\")"
   ]
  },
  {
   "cell_type": "markdown",
   "id": "3a28f699-6319-43df-9183-548c3f513b44",
   "metadata": {},
   "source": [
    "<h2>Parsing & Cleaning HTML</h2>\n",
    "<div style=\"font-size:18px;font-family:Calibri\">\n",
    "    Use Beautiful's Soup extensive set of options to parse and extract.\n",
    "</div>"
   ]
  },
  {
   "cell_type": "code",
   "execution_count": 71,
   "id": "ee1a0a79-040f-4647-9ca3-6e969b350213",
   "metadata": {},
   "outputs": [
    {
     "data": {
      "text/plain": [
       "<html><body><div class=\"full_name\"><span style=\"font\n",
       "weight:bold\">Masego</span> Azra</div>\"\n",
       "</body></html>"
      ]
     },
     "execution_count": 71,
     "metadata": {},
     "output_type": "execute_result"
    }
   ],
   "source": [
    " # Create some HTML code\n",
    " html = \"\"\"\n",
    " <div class='full_name'><span style='font\n",
    "weight:bold'>Masego</span> Azra</div>\"\n",
    " \"\"\"\n",
    "\n",
    "soup = BeautifulSoup(html, \"lxml\")\n",
    "soup"
   ]
  },
  {
   "cell_type": "code",
   "execution_count": 77,
   "id": "13cc9306-9f45-4265-8ceb-0d54af126374",
   "metadata": {},
   "outputs": [
    {
     "data": {
      "text/plain": [
       "'Masego Azra'"
      ]
     },
     "execution_count": 77,
     "metadata": {},
     "output_type": "execute_result"
    }
   ],
   "source": [
    "soup.find(\"div\", {\"class\": \"full_name\"}).text"
   ]
  },
  {
   "cell_type": "code",
   "execution_count": 89,
   "id": "a1496721-bce9-43dc-92f5-87039793df26",
   "metadata": {},
   "outputs": [
    {
     "data": {
      "text/plain": [
       "<html><head><title>Page title</title></head><body><p align=\"center\" id=\"firstpara\">This is paragraph <b>one</b>.</p><p align=\"blah\" id=\"secondpara\">This is paragraph <b>two</b>.</p></body></html>"
      ]
     },
     "execution_count": 89,
     "metadata": {},
     "output_type": "execute_result"
    }
   ],
   "source": [
    "doc = ['<html><head><title>Page title</title></head>',\n",
    "       '<body><p id=\"firstpara\" align=\"center\">This is paragraph <b>one</b>.',\n",
    "       '<p id=\"secondpara\" align=\"blah\">This is paragraph <b>two</b>.',\n",
    "       '</html>']\n",
    "soup = BeautifulSoup(''.join(doc))\n",
    "soup"
   ]
  },
  {
   "cell_type": "code",
   "execution_count": 91,
   "id": "a66c15fa-e658-4faf-b060-3a138e1451ac",
   "metadata": {},
   "outputs": [
    {
     "data": {
      "text/plain": [
       "<bound method Tag.prettify of <html><head><title>Page title</title></head><body><p align=\"center\" id=\"firstpara\">This is paragraph <b>one</b>.</p><p align=\"blah\" id=\"secondpara\">This is paragraph <b>two</b>.</p></body></html>>"
      ]
     },
     "execution_count": 91,
     "metadata": {},
     "output_type": "execute_result"
    }
   ],
   "source": [
    "soup.prettify"
   ]
  },
  {
   "cell_type": "code",
   "execution_count": 101,
   "id": "df66440e-d756-4988-a759-4574b1da677d",
   "metadata": {},
   "outputs": [
    {
     "data": {
      "text/plain": [
       "<title>Page title</title>"
      ]
     },
     "execution_count": 101,
     "metadata": {},
     "output_type": "execute_result"
    }
   ],
   "source": [
    "soup.contents[0].title"
   ]
  },
  {
   "cell_type": "code",
   "execution_count": 113,
   "id": "4ceb3e1d-16d3-485c-8d82-4a1efec92674",
   "metadata": {},
   "outputs": [
    {
     "data": {
      "text/plain": [
       "'head'"
      ]
     },
     "execution_count": 113,
     "metadata": {},
     "output_type": "execute_result"
    }
   ],
   "source": [
    "soup.contents[0].title.parent.name"
   ]
  },
  {
   "cell_type": "code",
   "execution_count": 127,
   "id": "eaab3d87-ea77-401a-8ee4-709a0b20eeac",
   "metadata": {},
   "outputs": [
    {
     "data": {
      "text/plain": [
       "<p align=\"center\" id=\"firstpara\">This is paragraph <b>one</b>.</p>"
      ]
     },
     "execution_count": 127,
     "metadata": {},
     "output_type": "execute_result"
    }
   ],
   "source": [
    "soup.contents[0].title.parent.nextSibling.contents[0]"
   ]
  },
  {
   "cell_type": "code",
   "execution_count": 147,
   "id": "df79fcf9-f51c-4f25-8223-6c65ce1fa1c4",
   "metadata": {},
   "outputs": [
    {
     "data": {
      "text/plain": [
       "'firstpara'"
      ]
     },
     "execution_count": 147,
     "metadata": {},
     "output_type": "execute_result"
    }
   ],
   "source": [
    "soup.findAll('p', {\"align\": \"center\"})[0]['id']"
   ]
  },
  {
   "cell_type": "code",
   "execution_count": 157,
   "id": "07065e70-6414-4ed0-b1ae-17e6fde0b600",
   "metadata": {},
   "outputs": [
    {
     "data": {
      "text/plain": [
       "'one'"
      ]
     },
     "execution_count": 157,
     "metadata": {},
     "output_type": "execute_result"
    }
   ],
   "source": [
    "soup.find('p').b.string"
   ]
  },
  {
   "cell_type": "markdown",
   "id": "859ba022-187b-4741-a5f2-877bddb3fe4f",
   "metadata": {},
   "source": [
    "<h2>Removing Punctuation</h2>\n",
    "<div style=\"font-size:18px;font-family:Calibri\">\n",
    "We'll use unicodedata and sys library.\n",
    "</div>"
   ]
  },
  {
   "cell_type": "code",
   "execution_count": 163,
   "id": "572bc3b2-a87a-4fb9-a7ec-220a659156fd",
   "metadata": {},
   "outputs": [],
   "source": [
    "txt = ['Hi!!!! I. Love. This. Song....',\n",
    " '10000% Agree!!!! #LoveIT',\n",
    " 'Right?!?!']"
   ]
  },
  {
   "cell_type": "code",
   "execution_count": 184,
   "id": "0ca49bb6-3ad2-40e1-942e-753e26aadb23",
   "metadata": {},
   "outputs": [
    {
     "data": {
      "text/plain": [
       "['Interrobang By Aishwarya Henriette',\n",
       " 'Parking And Going By Karl Gautier',\n",
       " 'Today Is The night By Jarek Prakash']"
      ]
     },
     "execution_count": 184,
     "metadata": {},
     "output_type": "execute_result"
    }
   ],
   "source": [
    "punc = dict.fromkeys(i for i in range(sys.maxunicode) if unicodedata.category(chr(i)).startswith('P'))\n",
    "[strr.translate(punc) for strr in txt]"
   ]
  },
  {
   "cell_type": "code",
   "execution_count": null,
   "id": "3aaa7726-4835-47d3-946a-ef02a9f6990e",
   "metadata": {},
   "outputs": [],
   "source": []
  },
  {
   "cell_type": "code",
   "execution_count": null,
   "id": "dbca726d-8454-43b5-8ccb-026fd823dad9",
   "metadata": {},
   "outputs": [],
   "source": []
  }
 ],
 "metadata": {
  "kernelspec": {
   "display_name": "Python 3 (ipykernel)",
   "language": "python",
   "name": "python3"
  },
  "language_info": {
   "codemirror_mode": {
    "name": "ipython",
    "version": 3
   },
   "file_extension": ".py",
   "mimetype": "text/x-python",
   "name": "python",
   "nbconvert_exporter": "python",
   "pygments_lexer": "ipython3",
   "version": "3.12.7"
  }
 },
 "nbformat": 4,
 "nbformat_minor": 5
}
